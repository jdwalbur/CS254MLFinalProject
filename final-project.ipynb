{
 "cells": [
  {
   "cell_type": "code",
   "execution_count": 1,
   "metadata": {},
   "outputs": [],
   "source": [
    "import chess\n",
    "import chess.pgn\n",
    "import chess.engine\n",
    "import csv\n",
    "import os.path\n",
    "import io\n",
    "import re\n",
    "import subprocess\n",
    "import platform\n",
    "import timeit\n",
    "import random\n",
    "import datetime\n",
    "from contextlib import contextmanager\n",
    "\n",
    "import pandas as pd\n",
    "from tqdm import tqdm\n",
    "from textwrap import wrap\n",
    "from typing import List, Tuple, Generator, Union, Optional, Literal\n",
    "import pyperclip as pc  # TODO remove"
   ]
  },
  {
   "cell_type": "code",
   "execution_count": 2,
   "outputs": [],
   "source": [
    "# Machine Learning\n",
    "import numpy as np\n",
    "import tensorflow as tf\n",
    "import tensorflow.keras as ks\n",
    "import matplotlib.pyplot as plt\n",
    "import sklearn as skl\n",
    "from sklearn.model_selection import train_test_split\n",
    "from sklearn.ensemble import RandomForestRegressor, RandomForestClassifier\n",
    "from sklearn.metrics import confusion_matrix, classification_report"
   ],
   "metadata": {
    "collapsed": false,
    "pycharm": {
     "name": "#%%\n"
    }
   }
  },
  {
   "cell_type": "code",
   "execution_count": 3,
   "outputs": [],
   "source": [
    "import wandb\n",
    "\n",
    "WANDB_ENTITY = 'cs254-final-project'\n",
    "WANDB_PROJECT_NAME = 'proj'"
   ],
   "metadata": {
    "collapsed": false,
    "pycharm": {
     "name": "#%%\n"
    }
   }
  },
  {
   "cell_type": "markdown",
   "metadata": {
    "pycharm": {
     "name": "#%% md\n"
    }
   },
   "source": [
    "# Python chess basics\n",
    "https://python-chess.readthedocs.io/en/latest/"
   ]
  },
  {
   "cell_type": "markdown",
   "metadata": {
    "pycharm": {
     "name": "#%% md\n"
    }
   },
   "source": [
    "# Sample PGN Data"
   ]
  },
  {
   "cell_type": "code",
   "execution_count": null,
   "metadata": {
    "pycharm": {
     "name": "#%%\n"
    }
   },
   "outputs": [],
   "source": [
    "jackson_pgn = '''\n",
    "[Event \"Rated Bullet game\"]\n",
    "[Site \"https://lichess.org/69CbaD8f\"]\n",
    "[Date \"2021.10.07\"]\n",
    "[White \"Cubigami\"]\n",
    "[Black \"JoinedToday\"]\n",
    "[Result \"1-0\"]\n",
    "[UTCDate \"2021.10.07\"]\n",
    "[UTCTime \"05:16:00\"]\n",
    "[WhiteElo \"1930\"]\n",
    "[BlackElo \"1912\"]\n",
    "[WhiteRatingDiff \"+5\"]\n",
    "[BlackRatingDiff \"-6\"]\n",
    "[Variant \"Standard\"]\n",
    "[TimeControl \"60+0\"]\n",
    "[ECO \"B01\"]\n",
    "[Opening \"Scandinavian Defense: Mieses-Kotroc Variation\"]\n",
    "[Termination \"Normal\"]\n",
    "[Annotator \"lichess.org\"]\n",
    "\n",
    "1. e4 { [%eval 0.24] [%clk 0:01:00] } 1... d5?! { (0.24 → 0.82) Inaccuracy. e5 was best. } { [%eval 0.82] [%clk 0:01:00] } (1... e5 2. Nf3 Nc6 3. Bb5 Nf6 4. O-O Nxe4 5. Re1 Nd6 6. Nxe5) 2. exd5 { [%eval 0.36] [%clk 0:01:00] } 2... Qxd5 { [%eval 0.66] [%clk 0:01:00] } { B01 Scandinavian Defense: Mieses-Kotroc Variation } 3. Nc3 { [%eval 0.46] [%clk 0:01:00] } 3... Qe6+?! { (0.46 → 1.12) Inaccuracy. Qa5 was best. } { [%eval 1.12] [%clk 0:01:00] } (3... Qa5 4. Nf3 Nf6 5. d4 Bf5 6. Ne5 c6 7. Bf4 Nbd7 8. Nc4) 4. Be2 { [%eval 0.94] [%clk 0:00:59] } 4... Qg6? { (0.94 → 2.18) Mistake. Nf6 was best. } { [%eval 2.18] [%clk 0:01:00] } (4... Nf6 5. d4 Qd6 6. Nf3 e6 7. O-O Be7 8. Nb5 Qd8 9. c4) 5. Nf3 { [%eval 1.51] [%clk 0:00:58] } 5... Nc6?? { (1.51 → 4.52) Blunder. Qxg2 was best. } { [%eval 4.52] [%clk 0:00:59] } (5... Qxg2 6. Rg1 Qh3 7. d4 Nf6 8. Rg3 Qf5 9. Ne5 c6 10. Rf3) 6. O-O?? { (4.52 → 0.37) Blunder. Nb5 was best. } { [%eval 0.37] [%clk 0:00:57] } (6. Nb5 Kd8 7. d4 a6 8. d5 axb5 9. dxc6+ Ke8 10. Ne5 Qe6) 6... h5?? { (0.37 → 5.60) Blunder. Bh3 was best. } { [%eval 5.6] [%clk 0:00:59] } (6... Bh3 7. Ne1 Bf5 8. Nd5 O-O-O 9. Ne3 Nf6 10. Nf3 Be4 11. d3) 7. h4?? { (5.60 → 0.08) Blunder. Nb5 was best. } { [%eval 0.08] [%clk 0:00:56] } (7. Nb5 Bh3) 7... a6?? { (0.08 → 2.63) Blunder. Bh3 was best. } { [%eval 2.63] [%clk 0:00:58] } (7... Bh3 8. Ng5 Bf5 9. Bb5 f6 10. Nf3 e6 11. Nd4 Ne7 12. Qf3 Kd7 13. Re1 a6 14. Ba4) 8. Bd3?? { (2.63 → -0.22) Blunder. d4 was best. } { [%eval -0.22] [%clk 0:00:53] } (8. d4) 8... Qf6?? { (-0.22 → 1.46) Blunder. Bf5 was best. } { [%eval 1.46] [%clk 0:00:56] } (8... Bf5) 9. Ne4 { [%eval 1.24] [%clk 0:00:51] } 9... Qe6?! { (1.24 → 2.16) Inaccuracy. Qg6 was best. } { [%eval 2.16] [%clk 0:00:54] } (9... Qg6 10. Ng3) 10. Nfg5? { (2.16 → 0.77) Mistake. Neg5 was best. } { [%eval 0.77] [%clk 0:00:51] } (10. Neg5 Qd6 11. Bc4 Nh6 12. c3 Bf5 13. Qb3 O-O-O 14. Bxf7 e5 15. Be6+ Bxe6 16. Qxe6+ Qxe6) 10... Qd7?? { (0.77 → 8.62) Blunder. Qd5 was best. } { [%eval 8.62] [%clk 0:00:52] } (10... Qd5 11. Nc3 Qd8 12. Bc4 e6 13. Re1 Be7 14. d3 Nh6 15. Qxh5 g6 16. Qd1 Nf5 17. g3) 11. Qf3?? { (8.62 → -0.59) Blunder. Nxf7 was best. } { [%eval -0.59] [%clk 0:00:50] } (11. Nxf7) 11... f6?? { (-0.59 → 8.00) Blunder. Ne5 was best. } { [%eval 8.0] [%clk 0:00:50] } (11... Ne5 12. Qf4 f6 13. Be2 Nc6 14. Nf3 e5 15. Qe3 Nge7 16. Qb3 Qd5 17. d3 Qxb3 18. axb3) 12. Nc5 { [%eval 7.68] [%clk 0:00:47] } 12... Qd8? { (7.68 → Mate in 1) Checkmate is now unavoidable. Ne5 was best. } { [%eval #1] [%clk 0:00:49] } (12... Ne5 13. Bg6+ Nxg6 14. Nxd7 Bxd7 15. Qxb7 Rd8 16. Qe4 Nxh4 17. Ne6 Bxe6 18. Qxe6 Rd6 19. Qc4) 13. Nge6? { (Mate in 1 → 8.51) Lost forced checkmate sequence. Bg6# was best. } { [%eval 8.51] [%clk 0:00:45] } (13. Bg6#) 13... Bxe6 { [%eval 8.53] [%clk 0:00:43] } 14. Nxe6 { [%eval 8.78] [%clk 0:00:45] } 14... Qd7? { (8.78 → Mate in 1) Checkmate is now unavoidable. Ne5 was best. } { [%eval #1] [%clk 0:00:43] } (14... Ne5 15. Qxb7) 15. Bg6# { [%clk 0:00:45] } { White wins by checkmate. } 1-0'''\n",
    "\n",
    "carlson_pgn = '''\n",
    "[Event \"Rated Blitz game\"]\n",
    "[Site \"https://lichess.org/RzGPtofJ\"]\n",
    "[Date \"2021.08.19\"]\n",
    "[White \"Feokl1995\"]\n",
    "[Black \"DrNykterstein\"]\n",
    "[Result \"1/2-1/2\"]\n",
    "[UTCDate \"2021.08.19\"]\n",
    "[UTCTime \"22:35:41\"]\n",
    "[WhiteElo \"2998\"]\n",
    "[BlackElo \"3141\"]\n",
    "[WhiteRatingDiff \"+2\"]\n",
    "[BlackRatingDiff \"-2\"]\n",
    "[WhiteTitle \"GM\"]\n",
    "[BlackTitle \"GM\"]\n",
    "[Variant \"Standard\"]\n",
    "[TimeControl \"180+0\"]\n",
    "[ECO \"B00\"]\n",
    "[Opening \"Nimzowitsch Defense: Williams Variation\"]\n",
    "[Termination \"Normal\"]\n",
    "[Annotator \"lichess.org\"]\n",
    "\n",
    "1. e4 { [%eval 0.24] [%clk 0:03:00] } 1... Nc6 { [%eval 0.44] [%clk 0:03:00] } 2. Nf3 { [%eval 0.24] [%clk 0:02:58] } 2... d6 { [%eval 0.71] [%clk 0:02:59] } { B00 Nimzowitsch Defense: Williams Variation } 3. d4 { [%eval 0.72] [%clk 0:02:57] } 3... Nf6 { [%eval 0.89] [%clk 0:02:58] } 4. Nc3 { [%eval 0.54] [%clk 0:02:56] } 4... g6 { [%eval 0.96] [%clk 0:02:58] } 5. h3?! { (0.96 → 0.42) Inaccuracy. Be3 was best. } { [%eval 0.42] [%clk 0:02:55] } (5. Be3 Bg7 6. Qd2 O-O 7. d5 Nb8 8. Bh6 c6 9. h3 b5) 5... Bg7 { [%eval 0.67] [%clk 0:02:57] } 6. Be2 { [%eval 0.5] [%clk 0:02:55] } 6... O-O { [%eval 0.5] [%clk 0:02:57] } 7. O-O { [%eval 0.34] [%clk 0:02:54] } 7... a6 { [%eval 0.4] [%clk 0:02:55] } 8. a4 { [%eval 0.53] [%clk 0:02:53] } 8... b6 { [%eval 0.62] [%clk 0:02:50] } 9. Be3 { [%eval 0.39] [%clk 0:02:52] } 9... e6 { [%eval 0.6] [%clk 0:02:47] } 10. e5 { [%eval 0.84] [%clk 0:02:41] } 10... dxe5 { [%eval 0.56] [%clk 0:02:46] } 11. Nxe5 { [%eval 0.57] [%clk 0:02:40] } 11... Bb7 { [%eval 0.73] [%clk 0:02:43] } 12. Bf3 { [%eval 0.81] [%clk 0:02:38] } 12... Nd5 { [%eval 0.91] [%clk 0:02:42] } 13. Nxd5 { [%eval 0.85] [%clk 0:02:36] } 13... exd5 { [%eval 0.75] [%clk 0:02:42] } 14. Nxc6 { [%eval 0.81] [%clk 0:02:31] } 14... Bxc6 { [%eval 0.87] [%clk 0:02:42] } 15. c3 { [%eval 0.75] [%clk 0:02:30] } 15... a5 { [%eval 1.03] [%clk 0:02:41] } 16. Bf4 { [%eval 0.6] [%clk 0:02:29] } 16... Qd7 { [%eval 0.88] [%clk 0:02:40] } 17. Re1 { [%eval 0.75] [%clk 0:02:28] } 17... Rfe8 { [%eval 0.79] [%clk 0:02:39] } 18. b3 { [%eval 0.36] [%clk 0:02:26] } 18... Rxe1+ { [%eval 0.35] [%clk 0:02:37] } 19. Qxe1 { [%eval 0.45] [%clk 0:02:26] } 19... Re8 { [%eval 0.42] [%clk 0:02:36] } 20. Qd2 { [%eval 0.55] [%clk 0:02:26] } 20... Bf8 { [%eval 0.36] [%clk 0:02:36] } 21. Re1 { [%eval 0.28] [%clk 0:02:19] } 21... Rxe1+ { [%eval 0.29] [%clk 0:02:35] } 22. Qxe1 { [%eval 0.45] [%clk 0:02:19] } 22... Bd6 { [%eval 0.25] [%clk 0:02:34] } 23. Qe3 { [%eval 0.22] [%clk 0:02:17] } 23... f6 { [%eval 0.42] [%clk 0:02:12] } 24. Bg4 { [%eval 0.14] [%clk 0:02:12] } 24... Qd8 { [%eval 0.63] [%clk 0:02:09] } 25. Qe6+ { [%eval 0.44] [%clk 0:02:10] } 25... Kg7 { [%eval 0.47] [%clk 0:02:07] } 26. Bxd6 { [%eval 0.4] [%clk 0:02:08] } 26... Qxd6 { [%eval 0.43] [%clk 0:02:07] } 27. Qxd6 { [%eval 0.42] [%clk 0:02:06] } 27... cxd6 { [%eval 0.43] [%clk 0:02:07] } 28. Bf3 { [%eval 0.45] [%clk 0:02:02] } 28... f5 { [%eval 0.43] [%clk 0:02:06] } 29. h4 { [%eval 0.21] [%clk 0:01:55] } 29... Kf6 { [%eval 0.21] [%clk 0:02:04] } 30. g3 { [%eval 0.26] [%clk 0:01:54] } 30... h6 { [%eval 0.36] [%clk 0:02:03] } 31. Be2 { [%eval 0.14] [%clk 0:01:51] } 31... Bd7 { [%eval 0.3] [%clk 0:01:59] } 32. f4 { [%eval 0.35] [%clk 0:01:50] } 32... h5 { [%eval 0.36] [%clk 0:01:58] } 33. Kf2 { [%eval 0.35] [%clk 0:01:50] } 33... Be6 { [%eval 0.34] [%clk 0:01:57] } 34. Ke3 { [%eval 0.34] [%clk 0:01:48] } 34... Ke7 { [%eval 0.29] [%clk 0:01:57] } 35. Kd2 { [%eval 0.21] [%clk 0:01:48] } 35... Kd8 { [%eval 0.34] [%clk 0:01:57] } 36. Bb5 { [%eval 0.32] [%clk 0:01:46] } 36... Bf7 { [%eval 0.19] [%clk 0:01:55] } 37. Kd3 { [%eval 0.19] [%clk 0:01:44] } 37... Kc7 { [%eval 0.26] [%clk 0:01:55] } 38. Ke3 { [%eval 0.39] [%clk 0:01:39] } 38... Kd8 { [%eval 0.35] [%clk 0:01:54] } 39. Kd2 { [%eval 0.52] [%clk 0:01:39] } 39... Kc7 { [%eval 0.36] [%clk 0:01:53] } 40. Kc2 { [%eval 0.23] [%clk 0:01:38] } 40... Kd8 { [%eval 0.3] [%clk 0:01:53] } 41. Kb2 { [%eval 0.25] [%clk 0:01:37] } 41... Kc7 { [%eval 0.27] [%clk 0:01:53] } 42. Kc2 { [%eval 0.34] [%clk 0:01:37] } 42... Kd8 { [%eval 0.17] [%clk 0:01:52] } 43. Kd2 { [%eval 0.33] [%clk 0:01:36] } 43... Kc7 { [%eval 0.17] [%clk 0:01:52] } { The game is a draw. } 1/2-1/2\n",
    "'''"
   ]
  },
  {
   "cell_type": "markdown",
   "metadata": {
    "pycharm": {
     "name": "#%% md\n"
    }
   },
   "source": [
    "# Export Only the Valid Games in New PGN\n",
    "Filter the games from Lichess's .pgn downloads to a new .pgn that only include games that are analyzed and have the tags in the game header that will be necessary for feature generation.\n",
    "\n",
    "Only ~20% of the original Sep. 2015 PGN download are valid games. Exporting only these games to a new file will save time generating data later for learning."
   ]
  },
  {
   "cell_type": "code",
   "execution_count": 4,
   "metadata": {
    "pycharm": {
     "name": "#%%\n"
    }
   },
   "outputs": [],
   "source": [
    "''' Helper Functions'''\n",
    "\n",
    "DEFAULT_ERROR_MSG = 'Please enter \"y\" or \"n\".'\n",
    "def validate_yn(prompt: str, error_msg: str = DEFAULT_ERROR_MSG) -> bool:\n",
    "    \"\"\" Get a yes/no answer. \"\"\"\n",
    "    response = input(prompt)\n",
    "    while response.lower() not in ('y', 'yes', 'ya', 'n', 'no', 'nah'):\n",
    "        print(error_msg)\n",
    "        response = input(prompt)\n",
    "    return response.lower() in ('y', 'yes')\n",
    "\n",
    "def is_valid_analyzed_game(game: chess.pgn.Game) -> bool:\n",
    "    \"\"\" Return True if certain conditions about the Game are met. \"\"\"\n",
    "    # Must have these tags to use as features later\n",
    "    REQUIRED_TAGS = ('WhiteElo', 'BlackElo', 'TimeControl')\n",
    "    if not all((tag in game.headers for tag in REQUIRED_TAGS)):\n",
    "        return False\n",
    "\n",
    "    # Filter correspondence games (time controls like 3 days/move)\n",
    "    if game.headers['TimeControl'] == '-':\n",
    "        return False\n",
    "\n",
    "    # Make sure game has at least 2 moves in mainline\n",
    "    for ply, node in enumerate(game.mainline()):\n",
    "        # Don't return unanalyzed games\n",
    "        if ply == 0:\n",
    "            if '%eval' not in node.comment:\n",
    "                return False\n",
    "        else:\n",
    "            # Reached the second ply, skip \"else\"\n",
    "            break\n",
    "    else:\n",
    "        return False\n",
    "\n",
    "    return True\n",
    "\n",
    "''' Main Cleaning Function '''\n",
    "\n",
    "FILTER_GAMES_WRITE_BATCH_SIZE = 10_000\n",
    "def export_valid_games(pgn_filename: str,\n",
    "                       output_pgn_filename: str = None,\n",
    "                       max_games: Optional[int] = 1_000_000) -> Optional[str]:\n",
    "    \"\"\"\n",
    "    Export a new file containing PGN strings for only the games in pgn_filename\n",
    "    that are analyzed and have necessary info in the headers. The name of the new file\n",
    "    will be the same as pgn_filename but with \"___cleaned\" appended. This should be run\n",
    "    rarely to generate a new PGN file of the games we will be able to work with (and\n",
    "    will print a warning if the output filename already exists).\n",
    "\n",
    "    :param pgn_filename: The input filename\n",
    "    :param output_pgn_filename: If set, the new PGN filename. Set to None to autogenerate\n",
    "    :param max_games: Maximum number of games to write to the new file\n",
    "    :return: The name of the newly-generated file\n",
    "    \"\"\"\n",
    "\n",
    "    # PGN input file is required\n",
    "    assert os.path.splitext(pgn_filename)[1].lower() == '.pgn'\n",
    "\n",
    "    # Set filename if it wasn't given\n",
    "    if output_pgn_filename is None:\n",
    "        # Set the new name to be the input filename with ___cleaned\n",
    "        name, extension = os.path.splitext(pgn_filename)\n",
    "        output_pgn_filename = name + '___cleaned' + extension\n",
    "    else:\n",
    "        assert os.path.splitext(output_pgn_filename)[1].lower() == '.pgn'\n",
    "\n",
    "    # Warn if overwriting\n",
    "    if os.path.exists(output_pgn_filename):\n",
    "        if not validate_yn(f'warning: {output_pgn_filename} will be overwritten even though its size is '\n",
    "                           f'{os.path.getsize(output_pgn_filename) / 1e6:.2f}Mb. Continue? (y/n)'):\n",
    "            print('Aborting.')\n",
    "            return output_pgn_filename\n",
    "\n",
    "    # Extract the valid games\n",
    "    print(f'{datetime.datetime.now()}: Extracting valid games...')\n",
    "    start_time = timeit.default_timer()\n",
    "    with open(pgn_filename, 'r') as file:\n",
    "        num_games_checked = 0\n",
    "        total_num_valid_games_found = 0\n",
    "        num_valid_games_stored = 0\n",
    "        valid_games: List[str] = []\n",
    "\n",
    "        output_file_started = False\n",
    "\n",
    "        break_outer = False\n",
    "        while not break_outer:\n",
    "            # Get game\n",
    "            game = chess.pgn.read_game(file)\n",
    "            if game is None:\n",
    "                # No more games left, write whatever remains and break\n",
    "                print(f'{datetime.datetime.now()}: Writing {num_valid_games_stored} PGNs (total {total_num_valid_games_found})...', end='')\n",
    "                with open(output_pgn_filename, ('w', 'a')[output_file_started]) as f:\n",
    "                    f.write('\\n\\n\\n'.join(valid_games) + '\\n')\n",
    "                print('done.')\n",
    "                break\n",
    "\n",
    "            # Skip invalid games\n",
    "            is_valid = is_valid_analyzed_game(game)\n",
    "            num_games_checked += 1\n",
    "            if not is_valid:\n",
    "                continue\n",
    "\n",
    "            # Add to list\n",
    "            valid_games.append(str(game))\n",
    "            total_num_valid_games_found += 1\n",
    "            num_valid_games_stored += 1\n",
    "\n",
    "            # Wrap in try/else in case of PermissionError\n",
    "            break_inner = False\n",
    "            while not break_inner:\n",
    "                try:\n",
    "                    # Export list if current length > threshold (the elif)\n",
    "                    # or if we have enough now to write max_games PGNs (the if)\n",
    "                    if max_games is not None and total_num_valid_games_found == max_games \\\n",
    "                            or num_valid_games_stored >= FILTER_GAMES_WRITE_BATCH_SIZE:\n",
    "                        # Write all PGNs and break\n",
    "                        print(f'{datetime.datetime.now()}: Writing {num_valid_games_stored} PGNs (total {total_num_valid_games_found})...', end='')\n",
    "                        with open(output_pgn_filename, ('w', 'a')[output_file_started]) as f:\n",
    "                            f.write(''.join(pgn + '\\n\\n\\n' for pgn in valid_games))\n",
    "                        print('done.')\n",
    "                        break_outer = True\n",
    "                    elif num_valid_games_stored >= FILTER_GAMES_WRITE_BATCH_SIZE:\n",
    "                        # Write all PGNs\n",
    "                        print(f'{datetime.datetime.now()}: Writing {num_valid_games_stored} PGNs (total {total_num_valid_games_found})...', end='')\n",
    "                        with open(output_pgn_filename, ('w', 'a')[output_file_started]) as f:\n",
    "                            f.write(''.join(pgn + '\\n\\n\\n' for pgn in valid_games))\n",
    "                        print('done.')\n",
    "\n",
    "                        # Reset valid games list to free up memory\n",
    "                        valid_games = []\n",
    "                        num_valid_games_stored = 0\n",
    "                        output_file_started = True\n",
    "                    break_inner = True\n",
    "                except PermissionError:\n",
    "                    input(f'warning: PermissionError while saving. Please close {output_pgn_filename} and press enter.')\n",
    "\n",
    "    print()\n",
    "    print('Results:')\n",
    "    print(f'\\t{total_num_valid_games_found:,} valid PGNs written to \"{output_pgn_filename}\" '\n",
    "          f'({os.path.getsize(output_pgn_filename) / 1e6:.2f}Mb)')\n",
    "    print(f'\\t{num_games_checked:,} games checked for validity '\n",
    "          f'({total_num_valid_games_found/num_games_checked:.2%} valid)')\n",
    "    print(f'\\t{timeit.default_timer() - start_time:.2f}s elapsed')\n",
    "\n",
    "    return output_pgn_filename"
   ]
  },
  {
   "cell_type": "markdown",
   "metadata": {
    "pycharm": {
     "name": "#%% md\n"
    }
   },
   "source": [
    "The next cell will take a few hours to finish if `max_games=None`. It should have time if left running overnight."
   ]
  },
  {
   "cell_type": "code",
   "execution_count": null,
   "metadata": {
    "pycharm": {
     "name": "#%%\n"
    }
   },
   "outputs": [],
   "source": [
    "RAW_PGN_FILENAME = 'data/lichess_db_standard_rated_2015-09.pgn'\n",
    "CLEANED_PGN_FILENAME = export_valid_games(RAW_PGN_FILENAME, max_games=None)"
   ]
  },
  {
   "cell_type": "markdown",
   "metadata": {
    "pycharm": {
     "name": "#%% md\n"
    }
   },
   "source": [
    "# Helper Functions for Feature Extraction"
   ]
  },
  {
   "cell_type": "code",
   "execution_count": 5,
   "metadata": {
    "pycharm": {
     "name": "#%%\n"
    }
   },
   "outputs": [],
   "source": [
    "def generate_games(pgn_filename: str,\n",
    "                   max_games: int = 1_000_000,\n",
    "                   validate: bool = False) -> Generator[str, None, None]:\n",
    "    \"\"\"\n",
    "    Take a PGN filename and return a generator that loops over the first num_games games. If\n",
    "    validate is True, check whether a game is valid before yielding it (set to False if using\n",
    "    a \"...___cleaned.pgn\" input file).\n",
    "    \"\"\"\n",
    "    with open(pgn_filename, 'r') as file:\n",
    "        num_games_yielded = 0\n",
    "        while True:\n",
    "            if num_games_yielded > max_games:\n",
    "                return\n",
    "\n",
    "            game = chess.pgn.read_game(file)\n",
    "\n",
    "            # No more games in the PGN\n",
    "            if game is None:\n",
    "                return\n",
    "\n",
    "            # No need to check for validity here if using ...___cleaned.pgn file\n",
    "            if validate:\n",
    "                if not is_valid_analyzed_game(game):\n",
    "                    continue\n",
    "\n",
    "            yield game\n",
    "            num_games_yielded += 1\n",
    "\n",
    "EVAL_REGEX_PAT = '\\[%eval ([+-]?(?:[0-9]*[.])?[0-9]+|#-?[0-9]+)]'\n",
    "def get_score_from_comment(comment: str) -> float:\n",
    "    \"\"\" Return the pawn-score in the comment if it contains \"%eval\". If \"%eval\" not in comment, raises ValueError. \"\"\"\n",
    "    if '%eval' not in comment:\n",
    "        raise ValueError\n",
    "\n",
    "    # Get score part using regex\n",
    "    evals = re.findall(EVAL_REGEX_PAT, comment)\n",
    "    assert len(evals) == 1, f'error: \"%eval\" tag does not appear exactly once in move.comment = {comment}'\n",
    "    score = evals[0]\n",
    "\n",
    "    # Convert to float\n",
    "    try:\n",
    "        score = float(score)\n",
    "    except ValueError:\n",
    "        # Only explanation for ValueError should be that %eval's score is a checkmate, ex. '#-5' or '#9'\n",
    "        # Convert to centipawn-score with mate_score, then /100 to get pawn-score\n",
    "        # https://python-chess.readthedocs.io/en/latest/engine.html?highlight=mate_score#chess.engine.Score.score\n",
    "        assert '#' in score\n",
    "        score = chess.engine.Mate(int(score.lstrip('#'))).score(mate_score=10_000) / 100.0\n",
    "    return score\n",
    "\n",
    "CLK_REGEX_PAT = '\\[%clk (.*?)]'\n",
    "def get_time_remaining_from_comment(comment: str) -> int:\n",
    "    \"\"\"\n",
    "    Return the time remaining in seconds given by the \"%clk\" tag in the comment (always appears as an int).\n",
    "    If \"%clk\" not in comment, raise ValueError.\n",
    "    \"\"\"\n",
    "    if '%clk' not in comment:\n",
    "        raise ValueError\n",
    "\n",
    "    # Get eval part using regex\n",
    "    clk = re.findall(CLK_REGEX_PAT, comment)\n",
    "    assert len(clk) == 1, f'error: \"%clk\" tag does not appear exactly once in move.comment = {comment}'\n",
    "    clk = clk[0]\n",
    "\n",
    "    parts = clk.split(':')\n",
    "    assert len(parts) == 3\n",
    "    seconds_remaining = int(parts[0]) * 3600 \\\n",
    "                     + int(parts[1]) * 60 \\\n",
    "                     + int(parts[2])\n",
    "    return seconds_remaining\n",
    "\n",
    "def get_cpl(from_score: float, to_score: float, after_move_by: chess.Color) -> int:\n",
    "    \"\"\" Get centipawn loss (CPL) based on scores of consecutive moves and the side to move. \"\"\"\n",
    "    return round((from_score - to_score) * 100) * (1 if after_move_by == chess.WHITE else -1)\n",
    "\n",
    "def parse_time_control(time_control: str) -> Tuple[int, int]:\n",
    "    \"\"\" Convert a time control string like \"300+3\" . \"\"\"\n",
    "    if time_control == '-':\n",
    "        # Correspondence game (ex. 3 days per move)\n",
    "        # Assume the longest time control of 120+120\n",
    "        return 7200, 120\n",
    "\n",
    "    x = time_control.split('+')\n",
    "    return int(x[0]), int(x[1])"
   ]
  },
  {
   "cell_type": "markdown",
   "metadata": {
    "pycharm": {
     "name": "#%% md\n"
    }
   },
   "source": [
    "# Engine Functions"
   ]
  },
  {
   "cell_type": "code",
   "execution_count": 6,
   "metadata": {
    "pycharm": {
     "name": "#%%\n"
    }
   },
   "outputs": [],
   "source": [
    "@contextmanager\n",
    "def start_engine_process() -> Generator[subprocess.Popen, None, None]:\n",
    "    # Set Stockfish file according to OS\n",
    "    system = platform.system()\n",
    "    if system == 'Darwin':\n",
    "        stockfish = './stockfish'\n",
    "    elif system == 'Windows':\n",
    "        stockfish = 'stockfish_14_x64_avx2.exe'\n",
    "    else:\n",
    "        raise OSError(f'error: Unsupported operating system {system}')\n",
    "\n",
    "    # Open the exe using Popen\n",
    "    p = subprocess.Popen(stockfish,\n",
    "                         stdin=subprocess.PIPE,\n",
    "                         stdout=subprocess.PIPE,\n",
    "                         stderr=subprocess.PIPE)\n",
    "\n",
    "    # Send commands to this open process by using stdin.write(*command*)\n",
    "    send_commands(p, 'isready\\n')\n",
    "\n",
    "    # Allows for \"with start_engine_process() as p: ...\"\n",
    "    try:\n",
    "        yield p\n",
    "    finally:\n",
    "        p.terminate()\n",
    "\n",
    "def send_commands(p: subprocess.Popen, *commands: str) -> None:\n",
    "    if not commands:\n",
    "        return\n",
    "\n",
    "    for cmd in commands:\n",
    "        p.stdin.write(cmd.encode())\n",
    "\n",
    "    p.stdin.flush()\n",
    "\n",
    "def analyze_static(p: subprocess.Popen, fen: str) -> str:\n",
    "    \"\"\" Return the full string output of Stockfish's static evaluation for the given FEN. \"\"\"\n",
    "\n",
    "    send_commands(p, f'position fen {fen}\\n', 'eval\\n')\n",
    "\n",
    "    # Get as many str lines as were output\n",
    "    lines = []\n",
    "    while True:\n",
    "        line = p.stdout.readline().decode().strip()\n",
    "        lines.append(line.strip('\\n\\r'))\n",
    "\n",
    "        # Static eval does not run on positions where either king is in check\n",
    "        if 'none (in check)' in line or 'Final evaluation' in line:\n",
    "            break\n",
    "\n",
    "    return '\\n'.join(lines)"
   ]
  },
  {
   "cell_type": "markdown",
   "source": [
    "##### Testing"
   ],
   "metadata": {
    "collapsed": false,
    "pycharm": {
     "name": "#%% md\n"
    }
   }
  },
  {
   "cell_type": "code",
   "execution_count": null,
   "metadata": {
    "pycharm": {
     "name": "#%%\n"
    }
   },
   "outputs": [],
   "source": [
    "with start_engine_process() as p:\n",
    "    # In-check position shouldn't give static eval\n",
    "    print(analyze_static(p, 'r3r3/pppkb1pp/8/n2nN3/8/8/PPPP1PPP/RNB1K2R b KQ - 2 12'))\n",
    "\n",
    "    print('========================')\n",
    "\n",
    "    # Other positions should give static eval\n",
    "    output = analyze_static(p, 'r1bk1bnr/1pp2ppp/p1n2q2/3N2N1/6B1/8/PPP2PPP/R1BQK2R b KQ - 0 12')\n",
    "    print(output)"
   ]
  },
  {
   "cell_type": "markdown",
   "metadata": {
    "pycharm": {
     "name": "#%% md\n"
    }
   },
   "source": [
    "# Feature Generation from Game Data"
   ]
  },
  {
   "cell_type": "code",
   "execution_count": 7,
   "metadata": {
    "pycharm": {
     "name": "#%%\n"
    }
   },
   "outputs": [],
   "source": [
    "def vectorize_contributing_terms(static_analysis_output: str) -> np.ndarray:\n",
    "    \"\"\"\n",
    "    Return an array with shape (68,) of numbers from the \"Contributing terms...\" table\n",
    "    given by the Stockfish static analysis.\n",
    "    \"\"\"\n",
    "    # Regex tester\n",
    "    # https://regex101.com/r/OWV1ee/4\n",
    "    return np.array([float(i)\n",
    "                     for tup in re.findall('([-]?(?:[0-9]*[.])?[0-9]+) +([-]?(?:[0-9]*[.])?[0-9]+)', static_analysis_output)\n",
    "                     for i in tup])\n",
    "\n",
    "_BOARD = chess.Board()\n",
    "def vectorize_board_state(*,\n",
    "                          board: chess.Board = None,\n",
    "                          fen: str = None,\n",
    "                          packbits: bool = False) -> np.ndarray:\n",
    "    \"\"\"\n",
    "    Take either a Board or a FEN and return a 3d vector of the board state with shape (8, 8, 12)\n",
    "    if packbits is False, else (8, 8, 2). Each vector or int in the (8, 8) outer vectors returned\n",
    "    is a one-hot encoding of the piece type at that square.\n",
    "\n",
    "    Method taken from here: https://chess.stackexchange.com/a/34399/19286\n",
    "\n",
    "    One-hot encoding examples:\n",
    "        format: pnbrqkPNBRQK\n",
    "                ------------\n",
    "                000010000000 = black queen\n",
    "                000000010000 = white knight\n",
    "\n",
    "    :param board: Board object (preferred if available)\n",
    "    :param fen: String to make a new Board object\n",
    "    :param packbits: If True, each square's one-hot encoding is packed into the\n",
    "            binary representation of two np.bytes, instead of a vector of 0/1 ints.\n",
    "            See https://numpy.org/doc/stable/reference/generated/numpy.packbits.html\n",
    "    \"\"\"\n",
    "\n",
    "    # Provide Board or FEN, not both\n",
    "    assert (board, fen).count(None) == 1, f'error: vectorize_board_state() takes either a Board or a FEN str, not both'\n",
    "    if board is None:\n",
    "        _BOARD.set_fen(fen)\n",
    "        board = _BOARD\n",
    "\n",
    "    # Bitboards of all white and black pieces\n",
    "    black, white = board.occupied_co\n",
    "\n",
    "    # Bitboards each piece type by color\n",
    "    bbs = np.array([\n",
    "        black & board.pawns,\n",
    "        black & board.knights,\n",
    "        black & board.bishops,\n",
    "        black & board.rooks,\n",
    "        black & board.queens,\n",
    "        black & board.kings,\n",
    "        white & board.pawns,\n",
    "        white & board.knights,\n",
    "        white & board.bishops,\n",
    "        white & board.rooks,\n",
    "        white & board.queens,\n",
    "        white & board.kings,\n",
    "    ])\n",
    "\n",
    "    result = np.array([np.array([np.array([int(ch) for ch in row]).astype(np.int16, copy=False)\n",
    "                             for row in wrap(f'{str(bin(int(bb)))[2:]:0>64}', 8)])\n",
    "                   for bb in bbs]).swapaxes(0, 1).swapaxes(1, 2)\n",
    "    assert result.shape == (8, 8, 12)\n",
    "\n",
    "    if packbits:\n",
    "        result = np.packbits(result, axis=-1)\n",
    "        assert result.shape == (8, 8, 2)\n",
    "\n",
    "    return result\n",
    "\n",
    "def unpack_vectorized_board_state(packed_vectorized_board_state: np.ndarray) -> np.ndarray:\n",
    "    \"\"\"\n",
    "    Takes a vectorized board state array with packed bits (the result of calling\n",
    "    vectorize_board_state(..., packbits=True)) and unpack the bits back into a one-hot\n",
    "    encoded vector (the result of vectorize_board_state(..., packbits=False))\n",
    "    \"\"\"\n",
    "    assert packed_vectorized_board_state.shape == (8, 8, 2)\n",
    "    return np.unpackbits(packed_vectorized_board_state, axis=-1)[:,:,:12].astype(np.int16)\n",
    "\n",
    "# Stockfish's starting eval, the eval before any moves are made\n",
    "START_POSITION_EVAL = +0.3\n",
    "# Manually store number of features expected to be\n",
    "# returned to make sure everything works properly\n",
    "# CURRENT_NUM_FEATURES = 841\n",
    "CURRENT_NUM_FEATURES = 74\n",
    "def vectorize_game_moves(proc: subprocess.Popen,\n",
    "                         game: chess.pgn.Game,\n",
    "                         max_moves: int = None,\n",
    "                         score_type: Literal['cp', 'cpl'] = 'cpl') -> np.ndarray:\n",
    "    \"\"\"\n",
    "    Return a (max(#plies, max_moves if not None))x(CURRENT_NUM_FEATURES + 1) array. If max_moves is set,\n",
    "    a random set of max_moves moves will be chosen from the game to process and return, however\n",
    "    occasionally the number of rows in the returned array will be < max_moves if either side is\n",
    "    in check during a ply that was randomly selected to be included in the output (static eval\n",
    "    doesn't work for in-check positions).\n",
    "\n",
    "    For each ply (half-move) in the game, the following features are extracted:\n",
    "        Game-specific features:\n",
    "        - Player ELO rating\n",
    "        - Opponent ELO rating\n",
    "        - Rating gap (Opponent ELO - Player ELO)\n",
    "        - Clock starting time (seconds)\n",
    "        - Clock increment (seconds)\n",
    "        Move-specific features:\n",
    "        - Ply (# half-moves into the game)\n",
    "        - Static eval features:\n",
    "            - 68 features: floats from the \"Contributing terms ...\" table\n",
    "            - (TODO) 64 features: floats from the \"NNUE-derived piece values\" table\n",
    "                - Not sure how to deal with squares without pieces, filling with 0s might not make sense\n",
    "        - Board state:\n",
    "            - 768 features: 64 squares * 12 bits for one-hot encoded piece types\n",
    "\n",
    "    The final column is the target column holding the centipawn loss (CPL) of the player's move in the position.\n",
    "\n",
    "    :param max_moves: If None, as many plies from `game` will be vectorized as possible. This is\n",
    "            always < 200 for this dataset, as plies after 200 are not analyzed (ie. starting at\n",
    "            full-move 101). If an int is given, choose a random subset of `max_moves` plies to\n",
    "            vectorize. If one of these plies is a check, vectorization won't work, so skip it.\n",
    "            Therefore the number of rows returned may be < `max_plies` for this reason, or if\n",
    "            `game` has < `max_plies` plies.\n",
    "    :param score_type: Either \"cp\" or \"cpl\": whether target column stores the position's CP score or\n",
    "            the CP loss made by the player in the position\n",
    "    \"\"\"\n",
    "\n",
    "    # Data to be returned\n",
    "    # Storing as builtin list type is slightly faster than np.array\n",
    "    data = []\n",
    "\n",
    "    # Set up board and Game's move nodes\n",
    "    board = game.board()\n",
    "    mainline_nodes: List[chess.pgn.ChildNode] = list(game.mainline())\n",
    "    if len(mainline_nodes) < 2:\n",
    "        raise ValueError(f'error: fewer than two moves in the game\\'s mainline. '\n",
    "                         f'Is game from a ...___cleaned.pgn? game: {game}')\n",
    "\n",
    "    # Get indices of plies to use. If max_moves given, use only a subset of all game moves\n",
    "    plies_to_use = set(range(len(mainline_nodes)))\n",
    "    if max_moves is not None:\n",
    "        if not isinstance(max_moves, int) or max_moves <= 0:\n",
    "            raise ValueError('error: max_moves should be an int > 0')\n",
    "        if max_moves < len(plies_to_use):\n",
    "            # Bulitin random.sample is faster than the np options\n",
    "            plies_to_use = set(random.sample(plies_to_use, max_moves))\n",
    "    if not plies_to_use:\n",
    "        print(f'warning: plies_to_use is empty. Is game from a ...cleaned.pgn? game: {game}')\n",
    "\n",
    "    ''' Add row to `data` for each move '''\n",
    "    # Set game-specific features (constants while iterating over moves in the game)\n",
    "    h = game.headers\n",
    "    try:\n",
    "        clock_start, clock_inc = parse_time_control(h['TimeControl'])\n",
    "    except ValueError as e:\n",
    "        print(f'error: ValueError parsing time control. Is game from a ...___cleaned.pgn? '\n",
    "              f'game: {game}')\n",
    "        raise e\n",
    "    try:\n",
    "        white_elo = int(h['WhiteElo'])\n",
    "        black_elo = int(h['BlackElo'])\n",
    "    except KeyError as e:\n",
    "        # No player ratings in the game headers, should be using cleaned data\n",
    "        print(f'error: KeyError for \"WhiteElo\" or \"BlackElo\" in game.headers. '\n",
    "              f'Is game from a ...___cleaned.pgn? game.headers: {game.headers}')\n",
    "        raise e\n",
    "    game_features_white = np.array([h['WhiteElo'], h['BlackElo'], (black_elo-white_elo), clock_start, clock_inc])\n",
    "    game_features_black = np.array([h['BlackElo'], h['WhiteElo'], (white_elo-black_elo), clock_start, clock_inc])\n",
    "\n",
    "    # Add row of features for all selected moves in the Game\n",
    "    last_score: float = START_POSITION_EVAL\n",
    "    for ply, node in enumerate(mainline_nodes):\n",
    "        # Break condition: last ply's node may not have \"%eval\"\n",
    "        # in the comment (if its move gives checkmate/stalemate)\n",
    "        try:\n",
    "            score = get_score_from_comment(node.comment)\n",
    "        except ValueError as e:\n",
    "            # For this dataset, %eval comments stop at ply 200 (0-indexed, ex. white's move 101)\n",
    "            if ply == 200:\n",
    "                break\n",
    "\n",
    "            # Can't get cpl if this move has no %eval\n",
    "            # If there's no %eval because it's the last ply, that's fine\n",
    "            if ply == len(mainline_nodes)-1:\n",
    "                board.push(node.move)\n",
    "                assert board.is_game_over(claim_draw=True)\n",
    "                break\n",
    "\n",
    "            # Otherwise something weird is going on\n",
    "            print(f'error: ValueError getting score from comment: {e}')\n",
    "            print(f'\\tgame link: {game.headers[\"Site\"]}')\n",
    "            print(f'\\tcomment: {node.comment}')\n",
    "            print(f'\\tply: {ply}')\n",
    "            print(f'\\ttotal # plies: {len(mainline_nodes)}')\n",
    "            print(f'\\tfen: {board.fen()}')\n",
    "            print(f'\\tmove: {board.san(node.move)}')\n",
    "            raise e\n",
    "\n",
    "        # Continue if in check (can't get static eval in check)\n",
    "        # and skip move if this ply was not chosen to be used\n",
    "        if board.is_check() or ply not in plies_to_use:\n",
    "            last_score = score\n",
    "            try:\n",
    "                board.push(node.move)\n",
    "                continue\n",
    "            except AssertionError as e:\n",
    "                # Something weird going on, python-chess thinks move is illegal\n",
    "                print(f'warning: AssertionError while pushing move: {e}')\n",
    "                print(f'\\tmove: {node.move}')\n",
    "                print(f'\\tboard.fen(): {board.fen()}')\n",
    "                print(f'\\tply: {ply}')\n",
    "                print(f'\\tplies_to_use: {plies_to_use}')\n",
    "                break\n",
    "\n",
    "        # Get game-specific features\n",
    "        game_features = (game_features_black, game_features_white)[board.turn == chess.WHITE]\n",
    "\n",
    "        # Set move-specific features\n",
    "        static_eval_features = vectorize_contributing_terms(analyze_static(proc, board.fen()))\n",
    "        # board_state_features = vectorize_board_state(board, flatten=True)\n",
    "        board_state_features = [board.fen()]\n",
    "\n",
    "        if score_type == 'cpl':\n",
    "            # Set centipawn loss (CPL)\n",
    "            cpl = get_cpl(last_score, score, board.turn)\n",
    "\n",
    "            # # CPL should rarely be < 0 (player makes a move better than top computer line)\n",
    "            # if cpl < 0:\n",
    "            #     print('test: cpl less than 0')\n",
    "            #     print(f'\\tmove made by {chess.COLOR_NAMES[board.turn]}')\n",
    "            #     print(f'\\tlast_score: {last_score}')\n",
    "            #     print(f'\\tscore: {score}')\n",
    "            #     print(f'\\tcpl: {cpl}')\n",
    "            #     print(f'\\tboard.fen(): {board.fen()}')\n",
    "            #     print(f'\\tmove: {board.san(node.move)}')\n",
    "\n",
    "            # Create row\n",
    "            all_features = np.array([*game_features, *static_eval_features, *board_state_features, cpl])\n",
    "        else:\n",
    "            # Get CP score, not CP loss\n",
    "            cp = score*100\n",
    "\n",
    "            # Create row\n",
    "            all_features = np.array([*game_features, *static_eval_features, *board_state_features, cp])\n",
    "\n",
    "\n",
    "        # # Validate shape\n",
    "        assert all_features.shape == (CURRENT_NUM_FEATURES+1,), f'error: all_features wasn\\'t properly formed. all_features: {all_features}'\n",
    "\n",
    "        # Add the row\n",
    "        data.append(all_features)\n",
    "\n",
    "        # Play next move\n",
    "        board.push(node.move)\n",
    "        last_score = score\n",
    "\n",
    "    return np.array(data)"
   ]
  },
  {
   "cell_type": "markdown",
   "metadata": {
    "pycharm": {
     "name": "#%% md\n"
    }
   },
   "source": [
    "##### Testing"
   ]
  },
  {
   "cell_type": "code",
   "execution_count": null,
   "metadata": {
    "pycharm": {
     "name": "#%%\n"
    }
   },
   "outputs": [],
   "source": [
    "''' Board state vectorization '''\n",
    "print(vectorize_board_state(board=chess.Board()))\n",
    "print('\\n\\n================\\n\\n')\n",
    "print(vectorize_board_state(board=chess.Board(), packbits=True))\n",
    "# print('\\n\\n================\\n\\n')\n",
    "# print(vectorize_board_state(fen=chess.STARTING_FEN))\n",
    "\n",
    "# How to unpack bits from the result if packbits=True set\n",
    "assert np.all(np.equal(\n",
    "    unpack_vectorized_board_state(vectorize_board_state(board=chess.Board(), packbits=True)),\n",
    "    vectorize_board_state(board=chess.Board(), packbits=False))\n",
    ")"
   ]
  },
  {
   "cell_type": "code",
   "execution_count": null,
   "metadata": {
    "pycharm": {
     "name": "#%%\n"
    }
   },
   "outputs": [],
   "source": [
    "''' Get game data for the two test PGNs '''\n",
    "with start_engine_process() as p:\n",
    "    NUM_MOVES = None\n",
    "\n",
    "    carlson_game = chess.pgn.read_game(io.StringIO(carlson_pgn))\n",
    "    jackson_game = chess.pgn.read_game(io.StringIO(jackson_pgn))\n",
    "\n",
    "    carlson_game_data = vectorize_game_moves(p, carlson_game, max_moves=NUM_MOVES)\n",
    "    jackson_game_data = vectorize_game_moves(p, jackson_game, max_moves=NUM_MOVES)"
   ]
  },
  {
   "cell_type": "code",
   "execution_count": null,
   "metadata": {
    "pycharm": {
     "name": "#%%\n"
    }
   },
   "outputs": [],
   "source": [
    "# Data for Magnus Carlson's game\n",
    "# Last column (CPL) should be around 0 (+/- 30) because both players played accurately\n",
    "# Occasionally CPL can be <0 since both players are so high rated they found moves\n",
    "# that the engine underestimated or didn't consider at a low depth\n",
    "carlson_game_data"
   ]
  },
  {
   "cell_type": "code",
   "execution_count": null,
   "outputs": [],
   "source": [
    "# Data for Jackson's game\n",
    "# Last column (CPL) should be higher, fluctuate more, and rarely/never be <0\n",
    "jackson_game_data"
   ],
   "metadata": {
    "collapsed": false,
    "pycharm": {
     "name": "#%%\n"
    }
   }
  },
  {
   "cell_type": "markdown",
   "metadata": {
    "pycharm": {
     "name": "#%% md\n"
    }
   },
   "source": [
    "# Make a CSV Dataset\n",
    "\n",
    "Above are functions to export data points (training examples) for a single game. This reads from multiple games to generate a CSV that combines all their data."
   ]
  },
  {
   "cell_type": "code",
   "execution_count": 8,
   "metadata": {
    "pycharm": {
     "name": "#%%\n"
    }
   },
   "outputs": [],
   "source": [
    "def export_to_csv(csv_filename: str, data: np.array, reset_file: bool = False) -> None:\n",
    "    \"\"\"\n",
    "    Export a given 2d numpy array to a csv file. If reset_file is True,\n",
    "    open in write mode, else open in append mode.\n",
    "    \"\"\"\n",
    "    open_mode = ('a', 'w')[reset_file]\n",
    "    while True:\n",
    "        try:\n",
    "            with open(csv_filename, open_mode) as f:\n",
    "                np.savetxt(f, data, fmt='%s', delimiter=',')\n",
    "            break\n",
    "        except PermissionError:\n",
    "            input(f'error: PermissionError while writing file. Please close '\n",
    "                  f'{csv_filename} and press enter: ')\n",
    "\n",
    "PREPARE_DATA_WRITE_BATCH_SIZE = 900\n",
    "def create_dataset(pgn_filename: str,\n",
    "                   output_csv_filename: str = None,\n",
    "                   max_datapoints: int = None,\n",
    "                   max_datapoints_per_game: int = None,\n",
    "                   score_type: Literal['cp', 'cpl'] = 'cpl') -> Optional[str]:\n",
    "    \"\"\"\n",
    "    Process games using vectorize_game_moves() and export results to output_csv_filename in batches of\n",
    "    PREPARE_DATA_WRITE_BATCH_SIZE.\n",
    "\n",
    "    :param pgn_filename: Input filename. Should be a \"...___cleaned.pgn\" if one has been generated.\n",
    "    :param output_csv_filename: CSV where data will be stored. If set to None, a descriptive filename\n",
    "            will be generated.\n",
    "    :param max_datapoints: If set, limits the number of points (rows) that will be included in the output file\n",
    "    :param max_datapoints_per_game: If set, chooses a random subset of each game's moves to process. If None,\n",
    "            all moves in each game will be processed until the file is exhausted or max_datapoints rows have\n",
    "            been collected.\n",
    "    :param score_type: Whether target column should be CP (engine score at a given position) or CPL (diff\n",
    "            in CP between engine score and user's move)\n",
    "    \"\"\"\n",
    "\n",
    "    # Input file must be PGN\n",
    "    assert os.path.splitext(pgn_filename)[1].lower() == '.pgn'\n",
    "\n",
    "    # Set filename if it wasn't given\n",
    "    if output_csv_filename is None:\n",
    "        # Set the new name to be the input filename with a descriptive name appended\n",
    "        name, _ = os.path.splitext(pgn_filename)\n",
    "        middle_part = '___data'\n",
    "        if max_datapoints_per_game is not None:\n",
    "            middle_part += f'_max_{max_datapoints_per_game}_moves_per_game'\n",
    "        else:\n",
    "            middle_part += '_no_max_moves_per_game'\n",
    "        middle_part += f'_{score_type}'\n",
    "        output_csv_filename = name + middle_part + '.csv'\n",
    "    else:\n",
    "        assert os.path.splitext(output_csv_filename)[1].lower() == '.csv'\n",
    "\n",
    "    # Warn if overwriting\n",
    "    if os.path.exists(output_csv_filename):\n",
    "        if not validate_yn(f'warning: {output_csv_filename} will be overwritten even though its size is '\n",
    "                           f'{os.path.getsize(output_csv_filename) / 1e6:.2f}Mb. Continue? (y/n)'):\n",
    "            print('Aborting.')\n",
    "            return output_csv_filename\n",
    "\n",
    "    # Vectorize moves in games and write output file\n",
    "    start_time = timeit.default_timer()\n",
    "    empty_data = np.empty((0, CURRENT_NUM_FEATURES + 1))\n",
    "    data = empty_data.copy()\n",
    "    with start_engine_process() as proc:\n",
    "        num_games = 0               # Incremented each game\n",
    "        total_num_datapoints = 0    # Incremented each move\n",
    "        num_datapoints = 0          # Incremented each move, reset when data is appended to csv\n",
    "        num_discarded = 0\n",
    "        output_file_started = False\n",
    "\n",
    "        # tqdm just shows a progress bar\n",
    "        # https://github.com/tqdm/tqdm\n",
    "        for game in tqdm(generate_games(pgn_filename)):\n",
    "            # Get new data\n",
    "            new_data = vectorize_game_moves(proc, game, max_moves=max_datapoints_per_game, score_type=score_type)\n",
    "            data = np.concatenate((data, new_data), axis=0)\n",
    "\n",
    "            # Update counting vars\n",
    "            num_games += 1\n",
    "            num_datapoints += new_data.shape[0]\n",
    "            total_num_datapoints += new_data.shape[0]\n",
    "\n",
    "            # Append to CSV and reset `data` after it has more than PREPARE_DATA_WRITE_BATCH_SIZE rows (to save RAM)\n",
    "            if max_datapoints is not None and total_num_datapoints >= max_datapoints:\n",
    "                # Write only the number of rows that would give the file max_datapoints rows\n",
    "                num_discarded = total_num_datapoints - max_datapoints\n",
    "                data_to_write = data[:-num_discarded,:]\n",
    "\n",
    "                print(f'{datetime.datetime.now()}: Writing final {data_to_write.shape[0]} rows '\n",
    "                      f'(total {max_datapoints})...', end='')\n",
    "                export_to_csv(csv_filename=output_csv_filename, data=data_to_write, reset_file=not output_file_started)\n",
    "                print('done.')\n",
    "\n",
    "                break\n",
    "            elif num_datapoints >= PREPARE_DATA_WRITE_BATCH_SIZE:\n",
    "                # Write all rows\n",
    "                print(f'{datetime.datetime.now()}: Writing {num_datapoints} rows '\n",
    "                      f'(total {total_num_datapoints})...', end='')\n",
    "                export_to_csv(csv_filename=output_csv_filename, data=data, reset_file=not output_file_started)\n",
    "                print('done.')\n",
    "\n",
    "                # Reset data array to free up memory\n",
    "                data = empty_data.copy()\n",
    "                num_datapoints = 0\n",
    "                output_file_started = True\n",
    "\n",
    "    print('Results:')\n",
    "    print(f'\\t{min(total_num_datapoints, max_datapoints) if max_datapoints is not None else total_num_datapoints:,} '\n",
    "          f'data points written to \"{output_csv_filename}\" '\n",
    "          f'({os.path.getsize(output_csv_filename) / 1e6:.2f}Mb)')\n",
    "    print(f'\\t{total_num_datapoints:,} plies vectorized ({num_discarded} discarded)')\n",
    "    print(f'\\t{num_games:,} games parsed '\n",
    "          f'(<={max_datapoints_per_game if max_datapoints_per_game is not None else 200} plies vectorized per game)')\n",
    "    print(f'\\t{timeit.default_timer() - start_time:.2f}s elapsed')\n",
    "\n",
    "    return output_csv_filename"
   ]
  },
  {
   "cell_type": "code",
   "execution_count": 11,
   "metadata": {
    "pycharm": {
     "name": "#%%\n"
    }
   },
   "outputs": [
    {
     "name": "stdout",
     "output_type": "stream",
     "text": [
      "Aborting.\n"
     ]
    }
   ],
   "source": [
    "# This filename can also be set above if export_valid_games() is called\n",
    "# noinspection PyRedeclaration\n",
    "CLEANED_PGN_FILENAME = 'data/lichess_db_standard_rated_2015-09___cleaned.pgn'\n",
    "data_filename = create_dataset(CLEANED_PGN_FILENAME,\n",
    "                               max_datapoints=100_000,\n",
    "                               max_datapoints_per_game=None,\n",
    "                               score_type='cp')"
   ]
  },
  {
   "cell_type": "markdown",
   "metadata": {
    "pycharm": {
     "name": "#%% md\n"
    }
   },
   "source": [
    "# Load Random Sample of CSV Dataset"
   ]
  },
  {
   "cell_type": "code",
   "execution_count": 9,
   "metadata": {
    "pycharm": {
     "name": "#%%\n"
    }
   },
   "outputs": [],
   "source": [
    "def load_moves_data(csv_filename: str,\n",
    "                    sample_size: int = 10_000,\n",
    "                    max_population: Optional[int] = 1_000_000,\n",
    "                    include_numeric: bool = True,\n",
    "                    include_fens: bool = True,\n",
    "                    vectorize_fens: bool = False,\n",
    "                    include_target: bool = True,\n",
    "                    split_X_y: bool = False,\n",
    "                    split_numeric_fens: bool = False,\n",
    "                    target_class_threshold: float = None) \\\n",
    "        -> Union[np.ndarray, Tuple[np.ndarray, np.ndarray]]:\n",
    "    \"\"\"\n",
    "    Load a random sample of all data from the given CSV into a numpy array. There are a lot of\n",
    "    configurable options below to choose from that will suit a range of ML applications.\n",
    "\n",
    "    :param csv_filename: Input file where data will be read from\n",
    "    :param sample_size: Number of rows to be returned. If csv_filename doesn't have sample_size rows,\n",
    "            a warning is printed and all rows are returned in order in the specified format.\n",
    "    :param max_population: Maximum number of rows that will be read from the file to potentially be\n",
    "            chosen in the random sample. Ex. if csv_filename has 10M rows but max_population is 100K,\n",
    "            only the first 100K rows of the file will be iterated over.\n",
    "    :param include_numeric: If True, include the numeric feature columns in the output (ex. game data,\n",
    "            static eval features, etc.), otherwise remove them.\n",
    "    :param include_fens: If True, include the FEN column in the output. In this case, if\n",
    "            split_numeric_fens is also False, all feature columns (even numeric ones) will have type\n",
    "            np.str_, not useful for machine learning. To avoid this, either set include_numeric=False\n",
    "            or split_numeric_fens=True. Then only the FEN array will have type np.str_, and other types\n",
    "            will be set to np.float32 automatically. If False, remove the FEN column and automatically\n",
    "            set all other numeric dtypes to np.float32.\n",
    "    :param vectorize_fens: If True, include_numeric must be False and split_X_y must be True so that\n",
    "            the FEN column in the output is isolated in a single np.array. This is to preserve dtypes of\n",
    "            the array that is output by vectorize_board_state(). If True, calls\n",
    "            vectorize_board_state(packbits=False) for each FEN in the FEN column to produce an output\n",
    "            array with shape (sample_size, 8, 8, 12). Otherwise, the FEN column are returned as strings\n",
    "            (specifically as np.str_ types).\n",
    "    :param include_target: If True, include the target column in the output, otherwise remove it.\n",
    "    :param split_X_y: If True, return an array `X` with the features and a column vector `y` with the\n",
    "            targets, otherwise return a single array with the included data\n",
    "    :param split_numeric_fens: If True, split_X_y must be True. Return 3 arrays `X` with the numeric\n",
    "            features, `fens` with the FENs, and `y` with the targets.\n",
    "    :param target_class_threshold: If a float is provided, turns the target column into binary classes\n",
    "            where all CPLs less than the threshold are 0 and all greater than the threshold are 1. If\n",
    "            None, target columns will be the original CPL, an array of np.float32s.\n",
    "\n",
    "    \"\"\"\n",
    "\n",
    "    ''' Validate inputs '''\n",
    "    if max_population is not None:\n",
    "        if sample_size > max_population:\n",
    "            raise ValueError('error: sample_size should be <= max_population')\n",
    "\n",
    "    if not any((include_numeric, include_fens, include_target)):\n",
    "        raise ValueError('error: no columns selected to be returned (one of '\n",
    "                         'include_numeric, include_fens, include_target must be True)')\n",
    "\n",
    "    if split_numeric_fens and not all((include_numeric, include_fens)):\n",
    "        raise ValueError('error: if split_numeric_fens=True, include_numeric and include_fens must be True')\n",
    "\n",
    "    if (not any((include_numeric, include_fens)) or not include_target) and split_X_y:\n",
    "        raise ValueError('error: if split_X_y=True, one of (include_numeric, include_fens) must be True '\n",
    "                         'and include_target must be True')\n",
    "\n",
    "    if split_numeric_fens and not split_X_y:\n",
    "        raise ValueError('error: if split_numeric_fens=True, split_X_y must be True')\n",
    "\n",
    "    if vectorize_fens and not split_numeric_fens:\n",
    "        if include_numeric or not include_fens or not split_X_y:\n",
    "            raise ValueError('error: if vectorize_fens=True, make sure the following arguments are set:\\n'\n",
    "                             '\\t- include_fens=True\\n'\n",
    "                             '\\t- include_numeric=False\\n'\n",
    "                             '\\t- split_X_y=True\\n'\n",
    "                             'to preserve the np.array dtype output by vectorize_board_state(). Otherwise '\n",
    "                             'all types will be cast to np.str_.')\n",
    "\n",
    "    if target_class_threshold is not None and not include_target:\n",
    "        raise ValueError('error: if target_class_threshold=True, include_target must be True')\n",
    "\n",
    "    ''' Take a random sample of CSV rows as strings '''\n",
    "    # This method is from Answer #3 here:\n",
    "    # https://www.py4u.net/discuss/21578\n",
    "    buffer = []\n",
    "    with open(csv_filename, 'r') as f:\n",
    "        for line_num, line in tqdm(enumerate(f)):\n",
    "            if max_population is not None and line_num == max_population:\n",
    "                break\n",
    "\n",
    "            line_num += 1\n",
    "            if line_num <= sample_size:\n",
    "                # Add first sample_size elements\n",
    "                buffer.append(line.strip())\n",
    "            elif random.random() < sample_size/line_num:\n",
    "                # Eject a random element from buffer\n",
    "                idx = random.randint(0, sample_size-1)\n",
    "                buffer[idx] = line.strip()\n",
    "    print('Converting CSV rows to np.arrays...', end='')\n",
    "    data = np.array(list(csv.reader(buffer)))\n",
    "    numeric, fens, target = data[:,:-2].astype(np.float32), data[:,-2], data[:,-1].astype(np.float32)\n",
    "    print('done.')\n",
    "\n",
    "    if sample_size > data.shape[0]:\n",
    "        print(f'warning: There were only {data.shape[0]:,} < sample_size={sample_size:,} rows '\n",
    "              f'in {csv_filename}. All {data.shape[0]:,} rows were returned.')\n",
    "\n",
    "    ''' Delete unwanted columns '''\n",
    "    if not include_numeric:\n",
    "        numeric = np.delete(numeric, slice(None), axis=-1)\n",
    "\n",
    "    if not include_fens:\n",
    "        # Safe to convert types now\n",
    "        fens = np.delete(fens, slice(None), axis=-1)\n",
    "    elif vectorize_fens:\n",
    "        # Safe to vectorize now because error is raised above if include_numeric=True\n",
    "        print('Vectorizing FENs...', end='')\n",
    "        fens = np.array([vectorize_board_state(fen=fen) for fen in fens.ravel()])\n",
    "        print('done.')\n",
    "    elif include_numeric and not split_numeric_fens:\n",
    "        print(f'warning: numeric dtypes ({\"EX\" if split_X_y else \"IN\"}CLUDING target) are still np.str_ '\n",
    "              '(numpy doesn\\'t do well with multi-type arrays). They will need to be converted to np.float32 manually '\n",
    "              'unless load_moves_data() is called with include_fens=False, or with split_numeric_fens=True to place the '\n",
    "              'FENs into a new column - in either case all numeric data will be converted to np.float32 dtypes '\n",
    "              'automatically.')\n",
    "\n",
    "    if not include_target:\n",
    "        target = np.delete(target, slice(None), axis=-1)\n",
    "\n",
    "    if target_class_threshold is not None:\n",
    "        target = np.array([int(cpl < target_class_threshold) for cpl in target], dtype=np.float32)\n",
    "\n",
    "    ''' Set & return appropriate result '''\n",
    "    # A mess of logic but it works\n",
    "    if split_X_y:\n",
    "        if split_numeric_fens:\n",
    "            result = numeric, fens, target\n",
    "        else:\n",
    "            if include_numeric and include_fens:\n",
    "                result = np.concatenate((numeric, fens.reshape((-1, 1))), axis=-1), target\n",
    "            elif include_numeric:\n",
    "                result = numeric, target\n",
    "            else:\n",
    "                assert include_fens  # Only other path\n",
    "                result = fens, target\n",
    "    else:\n",
    "        if include_numeric and include_fens and include_target:\n",
    "            result = np.concatenate((numeric, fens.reshape((-1, 1)), target.reshape((-1, 1))), axis=-1)\n",
    "        elif include_numeric and include_fens:\n",
    "            result = np.concatenate((numeric, fens.reshape((-1, 1))), axis=-1)\n",
    "        elif include_numeric and include_target:\n",
    "            result = np.concatenate((numeric, target.reshape((-1, 1))), axis=-1)\n",
    "        elif include_fens and include_target:\n",
    "            result = np.concatenate((fens.reshape((-1, 1)), target.reshape((-1, 1))), axis=-1)\n",
    "        elif include_numeric:\n",
    "            result = numeric\n",
    "        elif include_fens:\n",
    "            result = fens\n",
    "        else:\n",
    "            assert include_target  # Only other path\n",
    "            result = target\n",
    "\n",
    "    return result"
   ]
  },
  {
   "cell_type": "markdown",
   "source": [
    "##### Testing"
   ],
   "metadata": {
    "collapsed": false,
    "pycharm": {
     "name": "#%% md\n"
    }
   }
  },
  {
   "cell_type": "code",
   "execution_count": 12,
   "metadata": {
    "pycharm": {
     "name": "#%%\n"
    }
   },
   "outputs": [
    {
     "name": "stderr",
     "output_type": "stream",
     "text": [
      "100000it [00:00, 319327.10it/s]"
     ]
    },
    {
     "name": "stdout",
     "output_type": "stream",
     "text": [
      "Converting CSV rows to np.arrays...done.\n"
     ]
    },
    {
     "name": "stderr",
     "output_type": "stream",
     "text": [
      "\n"
     ]
    },
    {
     "data": {
      "text/plain": "array([ 3.820e+02, -9.993e+03,  1.140e+02, -1.710e+02, -4.000e+01,\n        3.400e+01, -1.000e+01, -7.000e+01,  6.700e+01,  6.000e+00,\n        1.250e+02,  3.900e+01, -1.871e+03,  2.144e+03, -1.220e+02,\n       -3.890e+02, -4.210e+02,  1.930e+02,  3.120e+02,  1.400e+01,\n       -1.200e+01, -1.398e+03,  1.500e+01, -1.660e+02, -2.000e+00,\n        1.700e+01,  4.460e+02,  1.100e+01,  6.000e+01,  5.531e+03,\n        0.000e+00,  3.000e+00, -5.600e+01, -3.400e+01,  3.700e+01,\n        4.200e+01,  1.600e+01, -7.090e+02,  3.470e+02,  5.100e+01,\n       -6.400e+02,  1.371e+03,  0.000e+00, -2.000e+01,  4.910e+02,\n        2.700e+01,  1.000e+01,  0.000e+00, -2.000e+02,  2.400e+01,\n        8.400e+01, -7.150e+02,  1.518e+03,  8.000e+00, -6.000e+00,\n       -1.090e+02, -8.300e+01, -2.680e+02,  6.700e+01,  9.200e+01,\n       -2.200e+01, -9.993e+03, -8.640e+02,  6.960e+02, -2.300e+01,\n       -4.300e+01, -1.740e+02, -1.306e+03,  5.900e+01,  9.900e+01,\n        3.340e+02,  4.600e+02,  6.300e+01, -8.990e+02,  1.065e+03,\n        1.200e+01,  8.500e+01, -9.995e+03,  3.990e+02, -1.420e+02,\n        6.200e+01, -3.360e+02,  5.000e+01,  6.740e+02,  4.800e+01,\n       -1.890e+02,  3.900e+01,  4.460e+02,  9.000e+01,  1.451e+03,\n       -2.000e+01, -2.900e+01,  2.000e+01,  0.000e+00,  2.700e+01,\n        5.100e+01,  2.000e+01, -9.978e+03, -1.800e+01, -3.600e+01],\n      dtype=float32)"
     },
     "execution_count": 12,
     "metadata": {},
     "output_type": "execute_result"
    }
   ],
   "source": [
    "data = load_moves_data(\n",
    "    csv_filename=data_filename,\n",
    "    sample_size=100,\n",
    "    max_population=1_000_000,\n",
    "    include_numeric=True,\n",
    "    include_fens=True,\n",
    "    vectorize_fens=False,\n",
    "    include_target=True,\n",
    "    split_X_y=True,\n",
    "    split_numeric_fens=True,\n",
    "    target_class_threshold=None,\n",
    ")\n",
    "data[2]"
   ]
  },
  {
   "cell_type": "markdown",
   "metadata": {
    "pycharm": {
     "name": "#%% md\n"
    }
   },
   "source": [
    "# Machine Learning"
   ]
  },
  {
   "cell_type": "markdown",
   "source": [
    "# Test 1: Random Forest Model (Regression)\n",
    "\n",
    "Using only numeric features (numbers given by static eval, not the board state), try to predict CPL."
   ],
   "metadata": {
    "collapsed": false,
    "pycharm": {
     "name": "#%% md\n"
    }
   }
  },
  {
   "cell_type": "markdown",
   "source": [
    "##### Prepare Data"
   ],
   "metadata": {
    "collapsed": false,
    "pycharm": {
     "name": "#%% md\n"
    }
   }
  },
  {
   "cell_type": "code",
   "execution_count": 15,
   "outputs": [
    {
     "name": "stderr",
     "output_type": "stream",
     "text": [
      "300000it [00:00, 308515.26it/s]\n"
     ]
    },
    {
     "name": "stdout",
     "output_type": "stream",
     "text": [
      "Converting CSV rows to np.arrays...done.\n"
     ]
    }
   ],
   "source": [
    "''' Load data '''\n",
    "X, y = load_moves_data(\n",
    "    csv_filename='data/lichess_db_standard_rated_2015-09___cleaned___data_max_20_moves_per_game_cpl.csv',\n",
    "    sample_size=50_000,\n",
    "    max_population=300_000,\n",
    "    include_numeric=True,\n",
    "    include_fens=False,\n",
    "    include_target=True,\n",
    "    split_X_y=True,\n",
    "    target_class_threshold=30)\n",
    "\n",
    "''' Feature scaling '''\n",
    "# Taken from https://machinelearningmastery.com/how-to-improve-neural-network-stability-and-modeling-performance-with-data-scaling/\n",
    "scaler = skl.preprocessing.MinMaxScaler()\n",
    "X_scaled = scaler.fit_transform(X)\n",
    "\n",
    "# TODO not sure if target col should be scaled?\n",
    "# scaler = skl.preprocessing.MinMaxScaler()\n",
    "# y_scaled = scaler.fit_transform(y.reshape((-1, 1))).ravel()\n",
    "\n",
    "''' Train/test/validate split '''\n",
    "# X_train, X_test_and_val, y_train, y_test_and_val = train_test_split(X_scaled, y_scaled, test_size=0.3, random_state=0)\n",
    "X_train, X_test_and_val, y_train, y_test_and_val = train_test_split(X_scaled, y, test_size=0.2)\n",
    "X_test, X_val, y_test, y_val = train_test_split(X_test_and_val, y_test_and_val, test_size=0.5)\n",
    "\n",
    "''' Delete unneeded vars '''\n",
    "del X, y, X_test_and_val, y_test_and_val, X_scaled#, y_scaled"
   ],
   "metadata": {
    "collapsed": false,
    "pycharm": {
     "name": "#%%\n"
    }
   }
  },
  {
   "cell_type": "code",
   "execution_count": 16,
   "outputs": [
    {
     "name": "stdout",
     "output_type": "stream",
     "text": [
      "X_train.shape: (40000, 73)\n",
      "X_test.shape: (5000, 73)\n",
      "X_val.shape: (5000, 73)\n",
      "y_train.shape: (40000,)\n",
      "y_test.shape: (5000,)\n",
      "y_val.shape: (5000,)\n"
     ]
    }
   ],
   "source": [
    "# Check shapes\n",
    "print(f'X_train.shape: {X_train.shape}')\n",
    "print(f'X_test.shape: {X_test.shape}')\n",
    "print(f'X_val.shape: {X_val.shape}')\n",
    "print(f'y_train.shape: {y_train.shape}')\n",
    "print(f'y_test.shape: {y_test.shape}')\n",
    "print(f'y_val.shape: {y_val.shape}')"
   ],
   "metadata": {
    "collapsed": false,
    "pycharm": {
     "name": "#%%\n"
    }
   }
  },
  {
   "cell_type": "code",
   "execution_count": null,
   "outputs": [],
   "source": [
    "# Optional: show feature correlation\n",
    "\n",
    "# Taken from https://towardsdatascience.com/deep-neural-networks-for-regression-problems-81321897ca33\n",
    "import seaborn as sb\n",
    "correlation_matrix = pd.DataFrame(data=X_train).corr()\n",
    "fig = plt.figure(figsize=(15,15))\n",
    "sb.heatmap(correlation_matrix, vmax=0.8, square=True)\n",
    "plt.show()"
   ],
   "metadata": {
    "collapsed": false,
    "pycharm": {
     "name": "#%%\n"
    }
   }
  },
  {
   "cell_type": "markdown",
   "source": [
    "##### Fit Model"
   ],
   "metadata": {
    "collapsed": false
   }
  },
  {
   "cell_type": "code",
   "execution_count": 17,
   "outputs": [],
   "source": [
    "# Note: MAE criterion 10x slower than MSE\n",
    "# reg = RandomForestRegressor(n_estimators=100, criterion='mse')\n",
    "reg = RandomForestClassifier(n_estimators=100, criterion='entropy')"
   ],
   "metadata": {
    "collapsed": false,
    "pycharm": {
     "name": "#%%\n"
    }
   }
  },
  {
   "cell_type": "code",
   "execution_count": 18,
   "outputs": [
    {
     "data": {
      "text/plain": "RandomForestClassifier(criterion='entropy')"
     },
     "execution_count": 18,
     "metadata": {},
     "output_type": "execute_result"
    }
   ],
   "source": [
    "# Fit our training data using a random forest regression technique\n",
    "# Regression takes around a minute to fit with 3k datapoints\n",
    "# Classification takes ~10s with 50k datapoints\n",
    "reg.fit(X_train, y_train)"
   ],
   "metadata": {
    "collapsed": false,
    "pycharm": {
     "name": "#%%\n"
    }
   }
  },
  {
   "cell_type": "code",
   "execution_count": 19,
   "outputs": [],
   "source": [
    "# Predict the values of our testing set using the model\n",
    "y_pred = reg.predict(X_test)"
   ],
   "metadata": {
    "collapsed": false,
    "pycharm": {
     "name": "#%%\n"
    }
   }
  },
  {
   "cell_type": "code",
   "execution_count": 20,
   "outputs": [
    {
     "name": "stdout",
     "output_type": "stream",
     "text": [
      "r2_score: -0.5099848374663145\n",
      "Accuracy: 0.6452\n"
     ]
    }
   ],
   "source": [
    "from sklearn.metrics import r2_score\n",
    "print(f'r2_score: {r2_score(y_test, y_pred)}')\n",
    "\n",
    "# Check to see how many results are within the set range\n",
    "''' Regression '''\n",
    "# THRESHOLD = 10  # centipawns\n",
    "# count = 0\n",
    "# for i in range(0, len(y_pred)):\n",
    "#     if abs(y_test[i] - y_pred[i]) <= THRESHOLD:\n",
    "#         count += 1\n",
    "# print(f'{count} out of {len(y_pred)} are within 10 cp')\n",
    "\n",
    "''' Classification '''\n",
    "print(f'Accuracy: {skl.metrics.accuracy_score(y_test, y_pred)}')"
   ],
   "metadata": {
    "collapsed": false,
    "pycharm": {
     "name": "#%%\n"
    }
   }
  },
  {
   "cell_type": "markdown",
   "source": [
    "Comparing the output from our predicted values to what they should be."
   ],
   "metadata": {
    "collapsed": false,
    "pycharm": {
     "name": "#%% md\n"
    }
   }
  },
  {
   "cell_type": "code",
   "execution_count": null,
   "outputs": [],
   "source": [
    "for i in range(0, len(y_test[:3000])):\n",
    "    print(y_pred[i], y_test[i])\n",
    "\n",
    "# len(data[0])"
   ],
   "metadata": {
    "collapsed": false,
    "pycharm": {
     "name": "#%%\n"
    }
   }
  },
  {
   "cell_type": "code",
   "execution_count": 21,
   "outputs": [],
   "source": [
    "# Delete vars to save memory for the next tests\n",
    "del X_train, X_test, X_val, y_train, y_test, y_val"
   ],
   "metadata": {
    "collapsed": false,
    "pycharm": {
     "name": "#%%\n"
    }
   }
  },
  {
   "cell_type": "markdown",
   "source": [
    "# Test 2: MLP Model (Regression)\n",
    "\n",
    "Using only numeric features (numbers given by static eval, not the board state), try to predict CPL."
   ],
   "metadata": {
    "collapsed": false,
    "pycharm": {
     "name": "#%% md\n"
    }
   }
  },
  {
   "cell_type": "markdown",
   "source": [
    "##### Prepare Data"
   ],
   "metadata": {
    "collapsed": false,
    "pycharm": {
     "name": "#%% md\n"
    }
   }
  },
  {
   "cell_type": "code",
   "execution_count": 22,
   "outputs": [
    {
     "name": "stderr",
     "output_type": "stream",
     "text": [
      "1000000it [00:02, 388144.84it/s]\n"
     ]
    },
    {
     "name": "stdout",
     "output_type": "stream",
     "text": [
      "Converting CSV rows to np.arrays...done.\n"
     ]
    }
   ],
   "source": [
    "config = {\n",
    "    'sample_size': 150_000\n",
    "}\n",
    "\n",
    "''' Load data '''\n",
    "X, y = load_moves_data(\n",
    "    csv_filename='data/lichess_db_standard_rated_2015-09___cleaned___data_max_20_moves_per_game_cpl.csv',\n",
    "    sample_size=config['sample_size'],\n",
    "    include_numeric=True,\n",
    "    include_fens=False,\n",
    "    include_target=True,\n",
    "    split_X_y=True,\n",
    "    target_class_threshold=30)\n",
    "y = ks.utils.to_categorical(y)\n",
    "\n",
    "''' Feature scaling '''\n",
    "# Taken from https://machinelearningmastery.com/how-to-improve-neural-network-stability-and-modeling-performance-with-data-scaling/\n",
    "scaler = skl.preprocessing.MinMaxScaler()\n",
    "X_scaled = scaler.fit_transform(X)\n",
    "\n",
    "# TODO not sure if target col should be scaled\n",
    "# scaler = skl.preprocessing.MinMaxScaler()\n",
    "# y_scaled = scaler.fit_transform(y.reshape((-1, 1))).ravel()\n",
    "\n",
    "''' Train/test/validate split '''\n",
    "# X_train, X_test_and_val, y_train, y_test_and_val = train_test_split(X_scaled, y_scaled, test_size=0.3, random_state=0)\n",
    "X_train, X_test_and_val, y_train, y_test_and_val = train_test_split(X_scaled, y, test_size=0.2)\n",
    "X_test, X_val, y_test, y_val = train_test_split(X_test_and_val, y_test_and_val, test_size=0.5)\n",
    "\n",
    "''' Delete unneeded vars '''\n",
    "del X, y, X_test_and_val, y_test_and_val, X_scaled#, y_scaled"
   ],
   "metadata": {
    "collapsed": false,
    "pycharm": {
     "name": "#%%\n"
    }
   }
  },
  {
   "cell_type": "code",
   "execution_count": 23,
   "outputs": [
    {
     "name": "stdout",
     "output_type": "stream",
     "text": [
      "X_train.shape: (120000, 73)\n",
      "X_test.shape: (15000, 73)\n",
      "X_val.shape: (15000, 73)\n",
      "y_train.shape: (120000, 2)\n",
      "y_test.shape: (15000, 2)\n",
      "y_val.shape: (15000, 2)\n"
     ]
    }
   ],
   "source": [
    "# Check shapes\n",
    "print(f'X_train.shape: {X_train.shape}')\n",
    "print(f'X_test.shape: {X_test.shape}')\n",
    "print(f'X_val.shape: {X_val.shape}')\n",
    "print(f'y_train.shape: {y_train.shape}')\n",
    "print(f'y_test.shape: {y_test.shape}')\n",
    "print(f'y_val.shape: {y_val.shape}')"
   ],
   "metadata": {
    "collapsed": false,
    "pycharm": {
     "name": "#%%\n"
    }
   }
  },
  {
   "cell_type": "markdown",
   "source": [
    "##### Fit Model"
   ],
   "metadata": {
    "collapsed": false,
    "pycharm": {
     "name": "#%% md\n"
    }
   }
  },
  {
   "cell_type": "code",
   "execution_count": 24,
   "outputs": [
    {
     "name": "stderr",
     "output_type": "stream",
     "text": [
      "wandb: Currently logged in as: jacksth22 (use `wandb login --relogin` to force relogin)\n"
     ]
    },
    {
     "data": {
      "text/plain": "<IPython.core.display.HTML object>",
      "text/html": "\n                    Syncing run <strong><a href=\"https://wandb.ai/cs254-final-project/proj/runs/sz9wi1m7\" target=\"_blank\">confused-thunder-10</a></strong> to <a href=\"https://wandb.ai/cs254-final-project/proj\" target=\"_blank\">Weights & Biases</a> (<a href=\"https://docs.wandb.com/integrations/jupyter.html\" target=\"_blank\">docs</a>).<br/>\n\n                "
     },
     "metadata": {},
     "output_type": "display_data"
    },
    {
     "name": "stdout",
     "output_type": "stream",
     "text": [
      "Model: \"sequential\"\n",
      "_________________________________________________________________\n",
      " Layer (type)                Output Shape              Param #   \n",
      "=================================================================\n",
      " dense (Dense)               (None, 256)               18944     \n",
      "                                                                 \n",
      " dropout (Dropout)           (None, 256)               0         \n",
      "                                                                 \n",
      " batch_normalization (BatchN  (None, 256)              1024      \n",
      " ormalization)                                                   \n",
      "                                                                 \n",
      " dense_1 (Dense)             (None, 256)               65792     \n",
      "                                                                 \n",
      " dropout_1 (Dropout)         (None, 256)               0         \n",
      "                                                                 \n",
      " batch_normalization_1 (Batc  (None, 256)              1024      \n",
      " hNormalization)                                                 \n",
      "                                                                 \n",
      " dense_2 (Dense)             (None, 256)               65792     \n",
      "                                                                 \n",
      " dropout_2 (Dropout)         (None, 256)               0         \n",
      "                                                                 \n",
      " batch_normalization_2 (Batc  (None, 256)              1024      \n",
      " hNormalization)                                                 \n",
      "                                                                 \n",
      " dense_3 (Dense)             (None, 256)               65792     \n",
      "                                                                 \n",
      " dropout_3 (Dropout)         (None, 256)               0         \n",
      "                                                                 \n",
      " batch_normalization_3 (Batc  (None, 256)              1024      \n",
      " hNormalization)                                                 \n",
      "                                                                 \n",
      " dense_4 (Dense)             (None, 2)                 514       \n",
      "                                                                 \n",
      "=================================================================\n",
      "Total params: 220,930\n",
      "Trainable params: 218,882\n",
      "Non-trainable params: 2,048\n",
      "_________________________________________________________________\n"
     ]
    }
   ],
   "source": [
    "config.update({\n",
    "    'learning_rate': 0.01,\n",
    "    'batch_size': 128,\n",
    "    'epochs': 10,\n",
    "    'optimizer': 'adam',\n",
    "    'loss': 'categorical_crossentropy'\n",
    "})\n",
    "# Optional: Log metrics to WandB\n",
    "run = wandb.init(\n",
    "    entity=WANDB_ENTITY,\n",
    "    project=WANDB_PROJECT_NAME,\n",
    "    group='test-2',\n",
    "    config=config,\n",
    "    reinit=True)\n",
    "\n",
    "mlp = ks.models.Sequential()\n",
    "mlp.add(ks.layers.InputLayer(input_shape=(X_train.shape[1:])))\n",
    "LAYERS = 4\n",
    "for i in range(LAYERS):\n",
    "    mlp.add(ks.layers.Dense(256, kernel_initializer='normal', activation='relu'))\n",
    "    mlp.add(ks.layers.Dropout(0.2))\n",
    "    mlp.add(ks.layers.BatchNormalization())\n",
    "mlp.add(ks.layers.Dense(2, activation='sigmoid'))\n",
    "\n",
    "mlp.summary()"
   ],
   "metadata": {
    "collapsed": false,
    "pycharm": {
     "name": "#%%\n"
    }
   }
  },
  {
   "cell_type": "code",
   "execution_count": 25,
   "outputs": [
    {
     "name": "stdout",
     "output_type": "stream",
     "text": [
      "Epoch 1/10\n",
      "938/938 [==============================] - 9s 7ms/step - loss: 0.6656 - categorical_accuracy: 0.6084 - val_loss: 0.6346 - val_categorical_accuracy: 0.6255\n",
      "Epoch 2/10\n",
      "938/938 [==============================] - 6s 7ms/step - loss: 0.6412 - categorical_accuracy: 0.6214 - val_loss: 0.6930 - val_categorical_accuracy: 0.6277\n",
      "Epoch 3/10\n",
      "938/938 [==============================] - 6s 6ms/step - loss: 0.6404 - categorical_accuracy: 0.6212 - val_loss: 0.6342 - val_categorical_accuracy: 0.6259\n",
      "Epoch 4/10\n",
      "938/938 [==============================] - 6s 7ms/step - loss: 0.6398 - categorical_accuracy: 0.6219 - val_loss: 0.6383 - val_categorical_accuracy: 0.6261\n",
      "Epoch 5/10\n",
      "938/938 [==============================] - 8s 8ms/step - loss: 0.6399 - categorical_accuracy: 0.6193 - val_loss: 0.6524 - val_categorical_accuracy: 0.6257\n",
      "Epoch 6/10\n",
      "938/938 [==============================] - 7s 8ms/step - loss: 0.6391 - categorical_accuracy: 0.6209 - val_loss: 0.6423 - val_categorical_accuracy: 0.6283\n",
      "Epoch 7/10\n",
      "938/938 [==============================] - 7s 8ms/step - loss: 0.6392 - categorical_accuracy: 0.6206 - val_loss: 0.6306 - val_categorical_accuracy: 0.6258\n",
      "Epoch 8/10\n",
      "938/938 [==============================] - 7s 7ms/step - loss: 0.6400 - categorical_accuracy: 0.6206 - val_loss: 0.6314 - val_categorical_accuracy: 0.6247\n",
      "Epoch 9/10\n",
      "938/938 [==============================] - 7s 8ms/step - loss: 0.6393 - categorical_accuracy: 0.6221 - val_loss: 0.6858 - val_categorical_accuracy: 0.6257\n",
      "Epoch 10/10\n",
      "938/938 [==============================] - 8s 9ms/step - loss: 0.6394 - categorical_accuracy: 0.6204 - val_loss: 0.6700 - val_categorical_accuracy: 0.6257\n"
     ]
    },
    {
     "data": {
      "text/plain": "<IPython.core.display.HTML object>",
      "text/html": "<br/>Waiting for W&B process to finish, PID 15692... <strong style=\"color:green\">(success).</strong>"
     },
     "metadata": {},
     "output_type": "display_data"
    },
    {
     "data": {
      "text/plain": "VBox(children=(Label(value=' 2.60MB of 2.60MB uploaded (0.00MB deduped)\\r'), FloatProgress(value=1.0, max=1.0)…",
      "application/vnd.jupyter.widget-view+json": {
       "version_major": 2,
       "version_minor": 0,
       "model_id": "aaeaeac2e2a749e3aaa96deb0e662171"
      }
     },
     "metadata": {},
     "output_type": "display_data"
    },
    {
     "data": {
      "text/plain": "<IPython.core.display.HTML object>",
      "text/html": "<style>\n    table.wandb td:nth-child(1) { padding: 0 10px; text-align: right }\n    .wandb-row { display: flex; flex-direction: row; flex-wrap: wrap; width: 100% }\n    .wandb-col { display: flex; flex-direction: column; flex-basis: 100%; flex: 1; padding: 10px; }\n    </style>\n<div class=\"wandb-row\"><div class=\"wandb-col\">\n<h3>Run history:</h3><br/><table class=\"wandb\"><tr><td>categorical_accuracy</td><td>▁███▇▇▇▇█▇</td></tr><tr><td>epoch</td><td>▁▂▃▃▄▅▆▆▇█</td></tr><tr><td>loss</td><td>█▂▁▁▁▁▁▁▁▁</td></tr><tr><td>val_categorical_accuracy</td><td>▃▇▃▄▃█▃▁▃▃</td></tr><tr><td>val_loss</td><td>▁█▁▂▃▂▁▁▇▅</td></tr></table><br/></div><div class=\"wandb-col\">\n<h3>Run summary:</h3><br/><table class=\"wandb\"><tr><td>best_epoch</td><td>6</td></tr><tr><td>best_val_loss</td><td>0.63062</td></tr><tr><td>categorical_accuracy</td><td>0.62043</td></tr><tr><td>epoch</td><td>9</td></tr><tr><td>loss</td><td>0.63945</td></tr><tr><td>val_categorical_accuracy</td><td>0.62567</td></tr><tr><td>val_loss</td><td>0.66996</td></tr></table>\n</div></div>\nSynced 6 W&B file(s), 1 media file(s), 0 artifact file(s) and 1 other file(s)\n<br/>Synced <strong style=\"color:#cdcd00\">confused-thunder-10</strong>: <a href=\"https://wandb.ai/cs254-final-project/proj/runs/sz9wi1m7\" target=\"_blank\">https://wandb.ai/cs254-final-project/proj/runs/sz9wi1m7</a><br/>\nFind logs at: <code>.\\wandb\\run-20211209_011745-sz9wi1m7\\logs</code><br/>\n"
     },
     "metadata": {},
     "output_type": "display_data"
    }
   ],
   "source": [
    "mlp.compile(\n",
    "    optimizer=ks.optimizers.Adam(learning_rate=config['learning_rate']),\n",
    "    loss=config['loss'],\n",
    "    metrics=[ks.metrics.CategoricalAccuracy()])\n",
    "\n",
    "# This will start the training and save each epoch output in the history list\n",
    "mlp_history = mlp.fit(\n",
    "    X_train, y_train,\n",
    "    batch_size=config['batch_size'],\n",
    "    epochs=config['epochs'],\n",
    "    validation_data=(X_val, y_val),\n",
    "    callbacks=[wandb.keras.WandbCallback()])\n",
    "\n",
    "run.finish()"
   ],
   "metadata": {
    "collapsed": false,
    "pycharm": {
     "name": "#%%\n"
    }
   }
  },
  {
   "cell_type": "code",
   "execution_count": 26,
   "outputs": [
    {
     "name": "stdout",
     "output_type": "stream",
     "text": [
      "dict_keys(['loss', 'categorical_accuracy', 'val_loss', 'val_categorical_accuracy'])\n"
     ]
    },
    {
     "data": {
      "text/plain": "<Figure size 432x288 with 1 Axes>",
      "image/png": "[encoded data removed]"
     },
     "metadata": {
      "needs_background": "light"
     },
     "output_type": "display_data"
    }
   ],
   "source": [
    "# Regression\n",
    "# plt.plot(mlp_history.history['mean_absolute_error'], label='mean_absolute_error')\n",
    "# plt.plot(mlp_history.history['val_mean_absolute_error'], label='val_mean_absolute_error')\n",
    "\n",
    "# Classification\n",
    "print(mlp_history.history.keys())\n",
    "plt.plot(mlp_history.history['categorical_accuracy'], label='categorical_accuracy')\n",
    "plt.plot(mlp_history.history['val_categorical_accuracy'], label='val_categorical_accuracy')\n",
    "\n",
    "plt.legend()\n",
    "plt.show()"
   ],
   "metadata": {
    "collapsed": false,
    "pycharm": {
     "name": "#%%\n"
    }
   }
  },
  {
   "cell_type": "code",
   "execution_count": 27,
   "outputs": [],
   "source": [
    "# Delete vars to save memory for the next tests\n",
    "del X_train, X_test, X_val, y_train, y_test, y_val"
   ],
   "metadata": {
    "collapsed": false,
    "pycharm": {
     "name": "#%%\n"
    }
   }
  },
  {
   "cell_type": "markdown",
   "source": [
    "# Test 3: CNN (Regression)\n",
    "Only use one-hot encoded board state as features"
   ],
   "metadata": {
    "collapsed": false,
    "pycharm": {
     "name": "#%% md\n"
    }
   }
  },
  {
   "cell_type": "markdown",
   "source": [
    "##### Prepare Data"
   ],
   "metadata": {
    "collapsed": false,
    "pycharm": {
     "name": "#%% md\n"
    }
   }
  },
  {
   "cell_type": "code",
   "execution_count": 28,
   "outputs": [
    {
     "name": "stderr",
     "output_type": "stream",
     "text": [
      "1000000it [00:02, 386645.67it/s]\n"
     ]
    },
    {
     "name": "stdout",
     "output_type": "stream",
     "text": [
      "Converting CSV rows to np.arrays...done.\n",
      "Vectorizing FENs...done.\n"
     ]
    }
   ],
   "source": [
    "''' Load data '''\n",
    "config = {\n",
    "    'sample_size': 100_000\n",
    "}\n",
    "\n",
    "X, y = load_moves_data(\n",
    "    csv_filename='data/lichess_db_standard_rated_2015-09___cleaned___data_max_20_moves_per_game_cpl.csv',\n",
    "    sample_size=config['sample_size'],\n",
    "    include_numeric=False,\n",
    "    include_fens=True,\n",
    "    vectorize_fens=True,\n",
    "    include_target=True,\n",
    "    split_X_y=True)\n",
    "\n",
    "''' Feature scaling '''\n",
    "# TODO not sure if target col should be scaled?\n",
    "# scaler = skl.preprocessing.MinMaxScaler()\n",
    "# y_scaled = scaler.fit_transform(y.reshape((-1, 1))).ravel()\n",
    "\n",
    "''' Train/test/validate split '''\n",
    "# X_train, X_test_and_val, y_train, y_test_and_val = train_test_split(X, y_scaled, test_size=0.3, random_state=0)\n",
    "X_train, X_test_and_val, y_train, y_test_and_val = train_test_split(X, y, test_size=0.2)\n",
    "X_test, X_val, y_test, y_val = train_test_split(X_test_and_val, y_test_and_val, test_size=0.5)\n",
    "\n",
    "''' Delete unneeded vars '''\n",
    "del X, y, X_test_and_val, y_test_and_val#, y_scaled"
   ],
   "metadata": {
    "collapsed": false,
    "pycharm": {
     "name": "#%%\n"
    }
   }
  },
  {
   "cell_type": "code",
   "execution_count": 29,
   "outputs": [
    {
     "name": "stdout",
     "output_type": "stream",
     "text": [
      "X_train.shape: (80000, 8, 8, 12)\n",
      "X_test.shape: (10000, 8, 8, 12)\n",
      "X_val.shape: (10000, 8, 8, 12)\n",
      "y_train.shape: (80000,)\n",
      "y_test.shape: (10000,)\n",
      "y_val.shape: (10000,)\n"
     ]
    }
   ],
   "source": [
    "# Check shapes\n",
    "print(f'X_train.shape: {X_train.shape}')\n",
    "print(f'X_test.shape: {X_test.shape}')\n",
    "print(f'X_val.shape: {X_val.shape}')\n",
    "print(f'y_train.shape: {y_train.shape}')\n",
    "print(f'y_test.shape: {y_test.shape}')\n",
    "print(f'y_val.shape: {y_val.shape}')"
   ],
   "metadata": {
    "collapsed": false,
    "pycharm": {
     "name": "#%%\n"
    }
   }
  },
  {
   "cell_type": "markdown",
   "source": [
    "##### Fit Model"
   ],
   "metadata": {
    "collapsed": false,
    "pycharm": {
     "name": "#%% md\n"
    }
   }
  },
  {
   "cell_type": "code",
   "execution_count": 30,
   "outputs": [
    {
     "data": {
      "text/plain": "<IPython.core.display.HTML object>",
      "text/html": "\n                    Syncing run <strong><a href=\"https://wandb.ai/cs254-final-project/proj/runs/2huubswf\" target=\"_blank\">feasible-bush-11</a></strong> to <a href=\"https://wandb.ai/cs254-final-project/proj\" target=\"_blank\">Weights & Biases</a> (<a href=\"https://docs.wandb.com/integrations/jupyter.html\" target=\"_blank\">docs</a>).<br/>\n\n                "
     },
     "metadata": {},
     "output_type": "display_data"
    },
    {
     "name": "stdout",
     "output_type": "stream",
     "text": [
      "Model: \"sequential_1\"\n",
      "_________________________________________________________________\n",
      " Layer (type)                Output Shape              Param #   \n",
      "=================================================================\n",
      " conv2d (Conv2D)             (None, 8, 8, 64)          6976      \n",
      "                                                                 \n",
      " batch_normalization_4 (Batc  (None, 8, 8, 64)         256       \n",
      " hNormalization)                                                 \n",
      "                                                                 \n",
      " dropout_4 (Dropout)         (None, 8, 8, 64)          0         \n",
      "                                                                 \n",
      " conv2d_1 (Conv2D)           (None, 8, 8, 64)          36928     \n",
      "                                                                 \n",
      " batch_normalization_5 (Batc  (None, 8, 8, 64)         256       \n",
      " hNormalization)                                                 \n",
      "                                                                 \n",
      " dropout_5 (Dropout)         (None, 8, 8, 64)          0         \n",
      "                                                                 \n",
      " conv2d_2 (Conv2D)           (None, 8, 8, 64)          36928     \n",
      "                                                                 \n",
      " batch_normalization_6 (Batc  (None, 8, 8, 64)         256       \n",
      " hNormalization)                                                 \n",
      "                                                                 \n",
      " dropout_6 (Dropout)         (None, 8, 8, 64)          0         \n",
      "                                                                 \n",
      " flatten (Flatten)           (None, 4096)              0         \n",
      "                                                                 \n",
      " dense_5 (Dense)             (None, 200)               819400    \n",
      "                                                                 \n",
      " batch_normalization_7 (Batc  (None, 200)              800       \n",
      " hNormalization)                                                 \n",
      "                                                                 \n",
      " dropout_7 (Dropout)         (None, 200)               0         \n",
      "                                                                 \n",
      " dense_6 (Dense)             (None, 1)                 201       \n",
      "                                                                 \n",
      "=================================================================\n",
      "Total params: 902,001\n",
      "Trainable params: 901,217\n",
      "Non-trainable params: 784\n",
      "_________________________________________________________________\n"
     ]
    }
   ],
   "source": [
    "config.update({\n",
    "    'sample_size': 100_000,\n",
    "    'learning_rate': 0.01,\n",
    "    'loss': 'mse',\n",
    "    'optimizer': 'adam',\n",
    "    'batch_size': 256,\n",
    "    'epochs': 10,\n",
    "})\n",
    "# Optional: Log metrics to WandB\n",
    "run = wandb.init(\n",
    "    entity=WANDB_ENTITY,\n",
    "    project=WANDB_PROJECT_NAME,\n",
    "    group='test-3',\n",
    "    config=config,\n",
    "    reinit=True)\n",
    "\n",
    "cnn = ks.models.Sequential([\n",
    "    ks.layers.InputLayer((8, 8, 12)),\n",
    "\n",
    "    ks.layers.Conv2D(64, 3, padding='same', activation='relu'),\n",
    "    ks.layers.BatchNormalization(),\n",
    "    ks.layers.Dropout(0.2),\n",
    "    # ks.layers.MaxPool2D(),\n",
    "\n",
    "    ks.layers.Conv2D(64, 3, padding='same', activation='relu'),\n",
    "    ks.layers.BatchNormalization(),\n",
    "    ks.layers.Dropout(0.2),\n",
    "    # ks.layers.MaxPool2D(),\n",
    "\n",
    "    ks.layers.Conv2D(64, 3, padding='same', activation='relu'),\n",
    "    ks.layers.BatchNormalization(),\n",
    "    ks.layers.Dropout(0.2),\n",
    "    # ks.layers.MaxPool2D(),\n",
    "\n",
    "    ks.layers.Flatten(),\n",
    "\n",
    "    ks.layers.Dense(200, activation='relu'),\n",
    "    ks.layers.BatchNormalization(),\n",
    "    ks.layers.Dropout(0.2),\n",
    "\n",
    "    # ks.layers.Dense(200),\n",
    "    # ks.layers.BatchNormalization(),\n",
    "    # ks.layers.LeakyReLU(),\n",
    "    # ks.layers.Dropout(0.5),\n",
    "    #\n",
    "    # ks.layers.Dense(200),\n",
    "    # ks.layers.BatchNormalization(),\n",
    "    # ks.layers.LeakyReLU(),\n",
    "    # ks.layers.Dropout(0.5),\n",
    "\n",
    "    ks.layers.Dense(1, activation='linear')\n",
    "])\n",
    "\n",
    "cnn.summary()"
   ],
   "metadata": {
    "collapsed": false,
    "pycharm": {
     "name": "#%%\n"
    }
   }
  },
  {
   "cell_type": "code",
   "execution_count": 31,
   "outputs": [
    {
     "name": "stdout",
     "output_type": "stream",
     "text": [
      "Epoch 1/10\n",
      "313/313 [==============================] - 53s 165ms/step - loss: 1416529.8750 - mse: 1416529.8750 - mae: 346.9644 - val_loss: 1598567.2500 - val_mse: 1598567.2500 - val_mae: 531.1799\n",
      "Epoch 2/10\n",
      "313/313 [==============================] - 51s 163ms/step - loss: 1388393.0000 - mse: 1388393.0000 - mae: 367.6504 - val_loss: 1366678.8750 - val_mse: 1366678.8750 - val_mae: 368.7731\n",
      "Epoch 3/10\n",
      "313/313 [==============================] - 50s 161ms/step - loss: 1379883.6250 - mse: 1379883.6250 - mae: 367.4253 - val_loss: 1388954.6250 - val_mse: 1388954.6250 - val_mae: 342.1217\n",
      "Epoch 4/10\n",
      "313/313 [==============================] - 50s 160ms/step - loss: 1369851.2500 - mse: 1369851.2500 - mae: 366.9372 - val_loss: 1388663.3750 - val_mse: 1388663.3750 - val_mae: 325.9711\n",
      "Epoch 5/10\n",
      "313/313 [==============================] - 51s 164ms/step - loss: 1358173.2500 - mse: 1358173.2500 - mae: 360.9541 - val_loss: 1395262.8750 - val_mse: 1395262.8750 - val_mae: 344.5608\n",
      "Epoch 6/10\n",
      "313/313 [==============================] - 51s 163ms/step - loss: 1353254.7500 - mse: 1353254.7500 - mae: 363.8896 - val_loss: 1378836.5000 - val_mse: 1378836.5000 - val_mae: 324.5493\n",
      "Epoch 7/10\n",
      "313/313 [==============================] - 51s 164ms/step - loss: 1341229.1250 - mse: 1341229.1250 - mae: 361.7609 - val_loss: 1399399.3750 - val_mse: 1399399.3750 - val_mae: 410.7028\n"
     ]
    },
    {
     "data": {
      "text/plain": "<IPython.core.display.HTML object>",
      "text/html": "<br/>Waiting for W&B process to finish, PID 17248... <strong style=\"color:green\">(success).</strong>"
     },
     "metadata": {},
     "output_type": "display_data"
    },
    {
     "data": {
      "text/plain": "VBox(children=(Label(value=' 10.41MB of 10.41MB uploaded (0.00MB deduped)\\r'), FloatProgress(value=1.0, max=1.…",
      "application/vnd.jupyter.widget-view+json": {
       "version_major": 2,
       "version_minor": 0,
       "model_id": "4f54ac38904f4ca9ac994954c493daa3"
      }
     },
     "metadata": {},
     "output_type": "display_data"
    },
    {
     "data": {
      "text/plain": "<IPython.core.display.HTML object>",
      "text/html": "<style>\n    table.wandb td:nth-child(1) { padding: 0 10px; text-align: right }\n    .wandb-row { display: flex; flex-direction: row; flex-wrap: wrap; width: 100% }\n    .wandb-col { display: flex; flex-direction: column; flex-basis: 100%; flex: 1; padding: 10px; }\n    </style>\n<div class=\"wandb-row\"><div class=\"wandb-col\">\n<h3>Run history:</h3><br/><table class=\"wandb\"><tr><td>epoch</td><td>▁▂▃▅▆▇█</td></tr><tr><td>loss</td><td>█▅▅▄▃▂▁</td></tr><tr><td>mae</td><td>▁███▆▇▆</td></tr><tr><td>mse</td><td>█▅▅▄▃▂▁</td></tr><tr><td>val_loss</td><td>█▁▂▂▂▁▂</td></tr><tr><td>val_mae</td><td>█▂▂▁▂▁▄</td></tr><tr><td>val_mse</td><td>█▁▂▂▂▁▂</td></tr></table><br/></div><div class=\"wandb-col\">\n<h3>Run summary:</h3><br/><table class=\"wandb\"><tr><td>best_epoch</td><td>1</td></tr><tr><td>best_val_loss</td><td>1366678.875</td></tr><tr><td>epoch</td><td>6</td></tr><tr><td>loss</td><td>1341229.125</td></tr><tr><td>mae</td><td>361.76086</td></tr><tr><td>mse</td><td>1341229.125</td></tr><tr><td>val_loss</td><td>1399399.375</td></tr><tr><td>val_mae</td><td>410.70279</td></tr><tr><td>val_mse</td><td>1399399.375</td></tr></table>\n</div></div>\nSynced 6 W&B file(s), 1 media file(s), 0 artifact file(s) and 1 other file(s)\n<br/>Synced <strong style=\"color:#cdcd00\">feasible-bush-11</strong>: <a href=\"https://wandb.ai/cs254-final-project/proj/runs/2huubswf\" target=\"_blank\">https://wandb.ai/cs254-final-project/proj/runs/2huubswf</a><br/>\nFind logs at: <code>.\\wandb\\run-20211209_012255-2huubswf\\logs</code><br/>\n"
     },
     "metadata": {},
     "output_type": "display_data"
    }
   ],
   "source": [
    "cnn.compile(optimizer=ks.optimizers.Adam(learning_rate=config['learning_rate']),\n",
    "            loss=config['loss'],\n",
    "            metrics=['mse', 'mae'])\n",
    "\n",
    "# Callback to stop when loss stops increasing\n",
    "early_stopping = ks.callbacks.EarlyStopping(\n",
    "    monitor='val_loss',\n",
    "    patience=5)\n",
    "\n",
    "# This will start the training and save each epoch output in the history list\n",
    "cnn_history = cnn.fit(\n",
    "    X_train, y_train,\n",
    "    batch_size=config['batch_size'],\n",
    "    epochs=config['epochs'],\n",
    "    validation_data=(X_val, y_val),\n",
    "    callbacks=[wandb.keras.WandbCallback(), early_stopping])\n",
    "\n",
    "run.finish()"
   ],
   "metadata": {
    "collapsed": false,
    "pycharm": {
     "name": "#%%\n"
    }
   }
  },
  {
   "cell_type": "code",
   "execution_count": 32,
   "outputs": [
    {
     "data": {
      "text/plain": "<Figure size 432x288 with 1 Axes>",
      "image/png": "[encoded data removed]"
     },
     "metadata": {
      "needs_background": "light"
     },
     "output_type": "display_data"
    }
   ],
   "source": [
    "plt.plot(cnn_history.history['mse'], label='mse')\n",
    "plt.plot(cnn_history.history['val_mse'], label='val_mse')\n",
    "plt.legend()\n",
    "plt.show()"
   ],
   "metadata": {
    "collapsed": false,
    "pycharm": {
     "name": "#%%\n"
    }
   }
  },
  {
   "cell_type": "code",
   "execution_count": 33,
   "outputs": [],
   "source": [
    "# Delete vars to save memory for the next tests\n",
    "del X_train, X_test, X_val, y_train, y_test, y_val"
   ],
   "metadata": {
    "collapsed": false,
    "pycharm": {
     "name": "#%%\n"
    }
   }
  },
  {
   "cell_type": "markdown",
   "source": [
    "# Test 4: MLP Model from Research Paper\n",
    "\n",
    "https://www.ai.rug.nl/~mwiering/GROUP/ARTICLES/ICPRAM_CHESS_DNN_2018.pdf"
   ],
   "metadata": {
    "collapsed": false,
    "pycharm": {
     "name": "#%% md\n"
    }
   }
  },
  {
   "cell_type": "markdown",
   "source": [
    "##### Testing the MLP Model"
   ],
   "metadata": {
    "collapsed": false,
    "pycharm": {
     "name": "#%% md\n"
    }
   }
  },
  {
   "cell_type": "code",
   "execution_count": 34,
   "outputs": [
    {
     "name": "stderr",
     "output_type": "stream",
     "text": [
      "100000it [00:00, 414269.43it/s]\n"
     ]
    },
    {
     "name": "stdout",
     "output_type": "stream",
     "text": [
      "Converting CSV rows to np.arrays...done.\n",
      "Vectorizing FENs...done.\n"
     ]
    }
   ],
   "source": [
    "config = {\n",
    "    'sample_size': 100_000,\n",
    "}\n",
    "\n",
    "X, y = load_moves_data(\n",
    "    csv_filename='data/lichess_db_standard_rated_2015-09___cleaned___data_no_max_moves_per_game_cp.csv',\n",
    "    sample_size=config['sample_size'],\n",
    "    max_population=300_000,\n",
    "    include_numeric=False,\n",
    "    include_fens=True,\n",
    "    vectorize_fens=True,\n",
    "    include_target=True,\n",
    "    split_X_y=True,\n",
    "    split_numeric_fens=False,\n",
    "    target_class_threshold=None,\n",
    ")\n",
    "\n",
    "# Set categories based on CP score (not CPL)\n",
    "new_y = []\n",
    "for cp in y:\n",
    "    if cp < -150:\n",
    "        new_y.append(-1)\n",
    "    elif cp < 150:\n",
    "        new_y.append(0)\n",
    "    else:\n",
    "        new_y.append(1)\n",
    "y = np.array(new_y)\n",
    "y = ks.utils.to_categorical(y, num_classes=3)"
   ],
   "metadata": {
    "collapsed": false,
    "pycharm": {
     "name": "#%%\n"
    }
   }
  },
  {
   "cell_type": "code",
   "execution_count": 35,
   "outputs": [],
   "source": [
    "X_train, X_test_and_val, y_train, y_test_and_val = train_test_split(X, y, test_size=0.2)\n",
    "X_test, X_val, y_test, y_val = train_test_split(X_test_and_val, y_test_and_val, test_size=0.5)\n",
    "\n",
    "del X, y, X_test_and_val, y_test_and_val"
   ],
   "metadata": {
    "collapsed": false,
    "pycharm": {
     "name": "#%%\n"
    }
   }
  },
  {
   "cell_type": "code",
   "execution_count": 39,
   "outputs": [
    {
     "data": {
      "text/plain": "<IPython.core.display.HTML object>",
      "text/html": "\n                    Syncing run <strong><a href=\"https://wandb.ai/cs254-final-project/proj/runs/a4onvkob\" target=\"_blank\">wild-silence-13</a></strong> to <a href=\"https://wandb.ai/cs254-final-project/proj\" target=\"_blank\">Weights & Biases</a> (<a href=\"https://docs.wandb.com/integrations/jupyter.html\" target=\"_blank\">docs</a>).<br/>\n\n                "
     },
     "metadata": {},
     "output_type": "display_data"
    },
    {
     "name": "stdout",
     "output_type": "stream",
     "text": [
      "Model: \"sequential_3\"\n",
      "_________________________________________________________________\n",
      " Layer (type)                Output Shape              Param #   \n",
      "=================================================================\n",
      " flatten_2 (Flatten)         (None, 768)               0         \n",
      "                                                                 \n",
      " dense_11 (Dense)            (None, 2048)              1574912   \n",
      "                                                                 \n",
      " dropout_11 (Dropout)        (None, 2048)              0         \n",
      "                                                                 \n",
      " dense_12 (Dense)            (None, 500)               1024500   \n",
      "                                                                 \n",
      " dropout_12 (Dropout)        (None, 500)               0         \n",
      "                                                                 \n",
      " dense_13 (Dense)            (None, 50)                25050     \n",
      "                                                                 \n",
      " dropout_13 (Dropout)        (None, 50)                0         \n",
      "                                                                 \n",
      " dense_14 (Dense)            (None, 3)                 153       \n",
      "                                                                 \n",
      "=================================================================\n",
      "Total params: 2,624,615\n",
      "Trainable params: 2,624,615\n",
      "Non-trainable params: 0\n",
      "_________________________________________________________________\n"
     ]
    }
   ],
   "source": [
    "config.update({\n",
    "    'dropout_rate': 0.2,\n",
    "    'learning_rate': 0.001,\n",
    "    'epochs': 100,\n",
    "    'batch_size': 128,\n",
    "    'optimizer': 'adam',\n",
    "    'beta_1': 0.9,\n",
    "    'beta_2': 0.99,\n",
    "    'epsilon': 1e-8,\n",
    "    'loss': 'categorical_crossentropy'\n",
    "})\n",
    "# Optional: Log metrics to WandB\n",
    "run = wandb.init(\n",
    "    entity=WANDB_ENTITY,\n",
    "    project=WANDB_PROJECT_NAME,\n",
    "    group='test-4',\n",
    "    config=config,\n",
    "    reinit=True)\n",
    "\n",
    "paper_model = ks.models.Sequential([\n",
    "    ks.layers.InputLayer(input_shape=(8, 8, 12)),\n",
    "    ks.layers.Flatten(),\n",
    "    ks.layers.Dense(2048, activation='relu'),\n",
    "    ks.layers.Dropout(config['dropout_rate']),\n",
    "    ks.layers.Dense(500, activation='relu'),\n",
    "    ks.layers.Dropout(config['dropout_rate']),\n",
    "    ks.layers.Dense(50, activation='relu'),\n",
    "    ks.layers.Dropout(config['dropout_rate']),\n",
    "    ks.layers.Dense(3, activation='softmax')\n",
    "])\n",
    "\n",
    "paper_model.summary()"
   ],
   "metadata": {
    "collapsed": false,
    "pycharm": {
     "name": "#%%\n"
    }
   }
  },
  {
   "cell_type": "code",
   "execution_count": 43,
   "outputs": [
    {
     "ename": "Error",
     "evalue": "You must call wandb.init() before WandbCallback()",
     "output_type": "error",
     "traceback": [
      "\u001B[1;31m---------------------------------------------------------------------------\u001B[0m",
      "\u001B[1;31mError\u001B[0m                                     Traceback (most recent call last)",
      "\u001B[1;32m~\\AppData\\Local\\Temp/ipykernel_8120/364516607.py\u001B[0m in \u001B[0;36m<module>\u001B[1;34m\u001B[0m\n\u001B[0;32m     18\u001B[0m     \u001B[0mepochs\u001B[0m\u001B[1;33m=\u001B[0m\u001B[0mconfig\u001B[0m\u001B[1;33m[\u001B[0m\u001B[1;34m'epochs'\u001B[0m\u001B[1;33m]\u001B[0m\u001B[1;33m,\u001B[0m\u001B[1;33m\u001B[0m\u001B[1;33m\u001B[0m\u001B[0m\n\u001B[0;32m     19\u001B[0m     \u001B[0mvalidation_data\u001B[0m\u001B[1;33m=\u001B[0m\u001B[1;33m(\u001B[0m\u001B[0mX_val\u001B[0m\u001B[1;33m,\u001B[0m \u001B[0my_val\u001B[0m\u001B[1;33m)\u001B[0m\u001B[1;33m,\u001B[0m\u001B[1;33m\u001B[0m\u001B[1;33m\u001B[0m\u001B[0m\n\u001B[1;32m---> 20\u001B[1;33m     callbacks=[wandb.keras.WandbCallback(), early_stopping])\n\u001B[0m\u001B[0;32m     21\u001B[0m \u001B[1;33m\u001B[0m\u001B[0m\n\u001B[0;32m     22\u001B[0m \u001B[0mrun\u001B[0m\u001B[1;33m.\u001B[0m\u001B[0mfinish\u001B[0m\u001B[1;33m(\u001B[0m\u001B[1;33m)\u001B[0m\u001B[1;33m\u001B[0m\u001B[1;33m\u001B[0m\u001B[0m\n",
      "\u001B[1;32m~\\anaconda3\\lib\\site-packages\\wandb\\integration\\keras\\keras.py\u001B[0m in \u001B[0;36m__init__\u001B[1;34m(self, monitor, verbose, mode, save_weights_only, log_weights, log_gradients, save_model, training_data, validation_data, labels, data_type, predictions, generator, input_type, output_type, log_evaluation, validation_steps, class_colors, log_batch_frequency, log_best_prefix, save_graph, validation_indexes, validation_row_processor, prediction_row_processor, infer_missing_processors, log_evaluation_frequency)\u001B[0m\n\u001B[0;32m    352\u001B[0m     ):\n\u001B[0;32m    353\u001B[0m         \u001B[1;32mif\u001B[0m \u001B[0mwandb\u001B[0m\u001B[1;33m.\u001B[0m\u001B[0mrun\u001B[0m \u001B[1;32mis\u001B[0m \u001B[1;32mNone\u001B[0m\u001B[1;33m:\u001B[0m\u001B[1;33m\u001B[0m\u001B[1;33m\u001B[0m\u001B[0m\n\u001B[1;32m--> 354\u001B[1;33m             \u001B[1;32mraise\u001B[0m \u001B[0mwandb\u001B[0m\u001B[1;33m.\u001B[0m\u001B[0mError\u001B[0m\u001B[1;33m(\u001B[0m\u001B[1;34m\"You must call wandb.init() before WandbCallback()\"\u001B[0m\u001B[1;33m)\u001B[0m\u001B[1;33m\u001B[0m\u001B[1;33m\u001B[0m\u001B[0m\n\u001B[0m\u001B[0;32m    355\u001B[0m         \u001B[1;32mwith\u001B[0m \u001B[0mwandb\u001B[0m\u001B[1;33m.\u001B[0m\u001B[0mwandb_lib\u001B[0m\u001B[1;33m.\u001B[0m\u001B[0mtelemetry\u001B[0m\u001B[1;33m.\u001B[0m\u001B[0mcontext\u001B[0m\u001B[1;33m(\u001B[0m\u001B[0mrun\u001B[0m\u001B[1;33m=\u001B[0m\u001B[0mwandb\u001B[0m\u001B[1;33m.\u001B[0m\u001B[0mrun\u001B[0m\u001B[1;33m)\u001B[0m \u001B[1;32mas\u001B[0m \u001B[0mtel\u001B[0m\u001B[1;33m:\u001B[0m\u001B[1;33m\u001B[0m\u001B[1;33m\u001B[0m\u001B[0m\n\u001B[0;32m    356\u001B[0m             \u001B[0mtel\u001B[0m\u001B[1;33m.\u001B[0m\u001B[0mfeature\u001B[0m\u001B[1;33m.\u001B[0m\u001B[0mkeras\u001B[0m \u001B[1;33m=\u001B[0m \u001B[1;32mTrue\u001B[0m\u001B[1;33m\u001B[0m\u001B[1;33m\u001B[0m\u001B[0m\n",
      "\u001B[1;31mError\u001B[0m: You must call wandb.init() before WandbCallback()"
     ]
    }
   ],
   "source": [
    "# Callback to stop when loss stops increasing\n",
    "early_stopping = ks.callbacks.EarlyStopping(\n",
    "    monitor='val_categorical_accuracy',\n",
    "    patience=10)\n",
    "\n",
    "paper_model.compile(\n",
    "    optimizer=ks.optimizers.Adam(learning_rate=config['learning_rate'],\n",
    "                                 beta_1=config['beta_1'],\n",
    "                                 beta_2=config['beta_2'],\n",
    "                                 epsilon=config['epsilon']),\n",
    "    loss=config['loss'],\n",
    "    metrics=[config['loss'], 'categorical_accuracy'])\n",
    "\n",
    "# This will start the training and save each epoch output in the history list\n",
    "paper_model_history = paper_model.fit(\n",
    "    X_train, y_train,\n",
    "    batch_size=config['batch_size'],\n",
    "    epochs=config['epochs'],\n",
    "    validation_data=(X_val, y_val),\n",
    "    callbacks=[wandb.keras.WandbCallback(), early_stopping])\n",
    "\n",
    "run.finish()"
   ],
   "metadata": {
    "collapsed": false,
    "pycharm": {
     "name": "#%%\n"
    }
   }
  },
  {
   "cell_type": "code",
   "execution_count": 44,
   "outputs": [
    {
     "data": {
      "text/plain": "<Figure size 432x288 with 1 Axes>",
      "image/png": "[encoded data removed]"
     },
     "metadata": {
      "needs_background": "light"
     },
     "output_type": "display_data"
    }
   ],
   "source": [
    "plt.plot(paper_model_history.history['categorical_accuracy'], label='categorical_accuracy')\n",
    "plt.plot(paper_model_history.history['val_categorical_accuracy'], label='val_categorical_accuracy')\n",
    "plt.legend()\n",
    "plt.ylim(0.5, 1)\n",
    "plt.show()"
   ],
   "metadata": {
    "collapsed": false,
    "pycharm": {
     "name": "#%%\n"
    }
   }
  },
  {
   "cell_type": "code",
   "execution_count": 45,
   "outputs": [
    {
     "data": {
      "text/plain": "<Figure size 432x288 with 1 Axes>",
      "image/png": "[encoded data removed]"
     },
     "metadata": {
      "needs_background": "light"
     },
     "output_type": "display_data"
    }
   ],
   "source": [
    "plt.plot(paper_model_history.history['loss'], label='loss')\n",
    "plt.plot(paper_model_history.history['val_loss'], label='val_loss')\n",
    "plt.legend()\n",
    "plt.ylim(0, 1)\n",
    "plt.show()"
   ],
   "metadata": {
    "collapsed": false,
    "pycharm": {
     "name": "#%%\n"
    }
   }
  },
  {
   "cell_type": "code",
   "execution_count": 46,
   "outputs": [],
   "source": [
    "# Delete vars to save memory for the next tests\n",
    "del X_train, X_test, X_val, y_train, y_test, y_val"
   ],
   "metadata": {
    "collapsed": false,
    "pycharm": {
     "name": "#%%\n"
    }
   }
  },
  {
   "cell_type": "markdown",
   "source": [
    "# Test 5: CNN From Paper\n",
    "\n",
    "https://www.ai.rug.nl/~mwiering/GROUP/ARTICLES/ICPRAM_CHESS_DNN_2018.pdf"
   ],
   "metadata": {
    "collapsed": false,
    "pycharm": {
     "name": "#%% md\n"
    }
   }
  },
  {
   "cell_type": "code",
   "execution_count": 47,
   "outputs": [
    {
     "name": "stderr",
     "output_type": "stream",
     "text": [
      "100000it [00:00, 414078.85it/s]\n"
     ]
    },
    {
     "name": "stdout",
     "output_type": "stream",
     "text": [
      "Converting CSV rows to np.arrays...done.\n",
      "Vectorizing FENs...done.\n"
     ]
    }
   ],
   "source": [
    "config = {\n",
    "    'sample_size': 100_000,\n",
    "}\n",
    "\n",
    "X, y = load_moves_data(\n",
    "    csv_filename='data/lichess_db_standard_rated_2015-09___cleaned___data_no_max_moves_per_game_cp.csv',\n",
    "    sample_size=config['sample_size'],\n",
    "    max_population=300_000,\n",
    "    include_numeric=False,\n",
    "    include_fens=True,\n",
    "    vectorize_fens=True,\n",
    "    include_target=True,\n",
    "    split_X_y=True,\n",
    "    split_numeric_fens=False,\n",
    "    target_class_threshold=None,\n",
    ")\n",
    "\n",
    "# Set categories based on CP score (not CPL)\n",
    "new_y = []\n",
    "for cp in y:\n",
    "    if cp < -150:\n",
    "        new_y.append(-1)\n",
    "    elif cp < 150:\n",
    "        new_y.append(0)\n",
    "    else:\n",
    "        new_y.append(1)\n",
    "y = np.array(new_y)\n",
    "y = ks.utils.to_categorical(y, num_classes=3)"
   ],
   "metadata": {
    "collapsed": false,
    "pycharm": {
     "name": "#%%\n"
    }
   }
  },
  {
   "cell_type": "code",
   "execution_count": 48,
   "outputs": [],
   "source": [
    "X_train, X_test_and_val, y_train, y_test_and_val = train_test_split(X, y, test_size=0.2)\n",
    "X_test, X_val, y_test, y_val = train_test_split(X_test_and_val, y_test_and_val, test_size=0.5)\n",
    "\n",
    "del X, y, X_test_and_val, y_test_and_val"
   ],
   "metadata": {
    "collapsed": false,
    "pycharm": {
     "name": "#%%\n"
    }
   }
  },
  {
   "cell_type": "code",
   "execution_count": 49,
   "outputs": [
    {
     "data": {
      "text/plain": "<IPython.core.display.HTML object>",
      "text/html": "\n                    Syncing run <strong><a href=\"https://wandb.ai/cs254-final-project/proj/runs/25htdh5y\" target=\"_blank\">graceful-music-14</a></strong> to <a href=\"https://wandb.ai/cs254-final-project/proj\" target=\"_blank\">Weights & Biases</a> (<a href=\"https://docs.wandb.com/integrations/jupyter.html\" target=\"_blank\">docs</a>).<br/>\n\n                "
     },
     "metadata": {},
     "output_type": "display_data"
    },
    {
     "name": "stdout",
     "output_type": "stream",
     "text": [
      "Model: \"sequential_4\"\n",
      "_________________________________________________________________\n",
      " Layer (type)                Output Shape              Param #   \n",
      "=================================================================\n",
      " conv2d_3 (Conv2D)           (None, 8, 8, 20)          6020      \n",
      "                                                                 \n",
      " dropout_14 (Dropout)        (None, 8, 8, 20)          0         \n",
      "                                                                 \n",
      " batch_normalization_8 (Batc  (None, 8, 8, 20)         80        \n",
      " hNormalization)                                                 \n",
      "                                                                 \n",
      " conv2d_4 (Conv2D)           (None, 8, 8, 50)          9050      \n",
      "                                                                 \n",
      " dropout_15 (Dropout)        (None, 8, 8, 50)          0         \n",
      "                                                                 \n",
      " batch_normalization_9 (Batc  (None, 8, 8, 50)         200       \n",
      " hNormalization)                                                 \n",
      "                                                                 \n",
      " flatten_3 (Flatten)         (None, 3200)              0         \n",
      "                                                                 \n",
      " dense_15 (Dense)            (None, 500)               1600500   \n",
      "                                                                 \n",
      " dense_16 (Dense)            (None, 3)                 1503      \n",
      "                                                                 \n",
      "=================================================================\n",
      "Total params: 1,617,353\n",
      "Trainable params: 1,617,213\n",
      "Non-trainable params: 140\n",
      "_________________________________________________________________\n"
     ]
    }
   ],
   "source": [
    "config.update({\n",
    "    'learning_rate': 0.01,\n",
    "    'epochs': 100,\n",
    "    'optimizer': 'sgd',\n",
    "    'loss': 'categorical_crossentropy',\n",
    "    'batch_size': 128\n",
    "})\n",
    "# Optional: Log metrics to WandB\n",
    "run = wandb.init(\n",
    "    entity=WANDB_ENTITY,\n",
    "    project=WANDB_PROJECT_NAME,\n",
    "    group='test-5',\n",
    "    config=config,\n",
    "    reinit=True)\n",
    "\n",
    "paper_cnn = ks.models.Sequential([\n",
    "    ks.layers.InputLayer(input_shape=(8, 8, 12)),\n",
    "    ks.layers.Conv2D(20, (5, 5), padding='same', activation='relu'),\n",
    "    ks.layers.Dropout(0.3),\n",
    "    ks.layers.BatchNormalization(),\n",
    "    ks.layers.Conv2D(50, (3, 3), padding='same', activation='relu'),\n",
    "    ks.layers.Dropout(0.3),\n",
    "    ks.layers.BatchNormalization(),\n",
    "\n",
    "    ks.layers.Flatten(),\n",
    "    ks.layers.Dense(500, activation='relu'),\n",
    "\n",
    "    ks.layers.Dense(3, activation='softmax')\n",
    "])\n",
    "\n",
    "paper_cnn.summary()"
   ],
   "metadata": {
    "collapsed": false,
    "pycharm": {
     "name": "#%%\n"
    }
   }
  },
  {
   "cell_type": "code",
   "execution_count": null,
   "outputs": [
    {
     "name": "stdout",
     "output_type": "stream",
     "text": [
      "Epoch 1/100\n",
      "625/625 [==============================] - 27s 41ms/step - loss: 0.8161 - categorical_crossentropy: 0.8161 - categorical_accuracy: 0.6355 - val_loss: 0.6858 - val_categorical_crossentropy: 0.6858 - val_categorical_accuracy: 0.7053\n",
      "Epoch 2/100\n",
      "625/625 [==============================] - 26s 41ms/step - loss: 0.7182 - categorical_crossentropy: 0.7182 - categorical_accuracy: 0.6859 - val_loss: 0.6365 - val_categorical_crossentropy: 0.6365 - val_categorical_accuracy: 0.7343\n",
      "Epoch 3/100\n",
      "625/625 [==============================] - 26s 41ms/step - loss: 0.6765 - categorical_crossentropy: 0.6765 - categorical_accuracy: 0.7083 - val_loss: 0.5983 - val_categorical_crossentropy: 0.5983 - val_categorical_accuracy: 0.7496\n",
      "Epoch 4/100\n",
      "625/625 [==============================] - 26s 42ms/step - loss: 0.6447 - categorical_crossentropy: 0.6447 - categorical_accuracy: 0.7266 - val_loss: 0.5685 - val_categorical_crossentropy: 0.5685 - val_categorical_accuracy: 0.7640\n",
      "Epoch 5/100\n",
      "625/625 [==============================] - 26s 42ms/step - loss: 0.6223 - categorical_crossentropy: 0.6223 - categorical_accuracy: 0.7360 - val_loss: 0.5456 - val_categorical_crossentropy: 0.5456 - val_categorical_accuracy: 0.7739\n",
      "Epoch 6/100\n",
      "625/625 [==============================] - 27s 42ms/step - loss: 0.5992 - categorical_crossentropy: 0.5992 - categorical_accuracy: 0.7487 - val_loss: 0.5238 - val_categorical_crossentropy: 0.5238 - val_categorical_accuracy: 0.7862\n",
      "Epoch 7/100\n",
      "625/625 [==============================] - 27s 42ms/step - loss: 0.5877 - categorical_crossentropy: 0.5877 - categorical_accuracy: 0.7549 - val_loss: 0.5146 - val_categorical_crossentropy: 0.5146 - val_categorical_accuracy: 0.7920\n",
      "Epoch 8/100\n",
      "625/625 [==============================] - 28s 44ms/step - loss: 0.5712 - categorical_crossentropy: 0.5712 - categorical_accuracy: 0.7639 - val_loss: 0.5013 - val_categorical_crossentropy: 0.5013 - val_categorical_accuracy: 0.7969\n",
      "Epoch 9/100\n",
      "625/625 [==============================] - 29s 47ms/step - loss: 0.5607 - categorical_crossentropy: 0.5607 - categorical_accuracy: 0.7668 - val_loss: 0.4884 - val_categorical_crossentropy: 0.4884 - val_categorical_accuracy: 0.8050\n",
      "Epoch 10/100\n",
      "625/625 [==============================] - 34s 54ms/step - loss: 0.5490 - categorical_crossentropy: 0.5490 - categorical_accuracy: 0.7729 - val_loss: 0.4771 - val_categorical_crossentropy: 0.4771 - val_categorical_accuracy: 0.8094\n",
      "Epoch 11/100\n",
      "625/625 [==============================] - 32s 51ms/step - loss: 0.5372 - categorical_crossentropy: 0.5372 - categorical_accuracy: 0.7804 - val_loss: 0.4946 - val_categorical_crossentropy: 0.4946 - val_categorical_accuracy: 0.8035\n",
      "Epoch 12/100\n",
      "625/625 [==============================] - 30s 48ms/step - loss: 0.5274 - categorical_crossentropy: 0.5274 - categorical_accuracy: 0.7839 - val_loss: 0.4666 - val_categorical_crossentropy: 0.4666 - val_categorical_accuracy: 0.8183\n",
      "Epoch 13/100\n",
      "625/625 [==============================] - 29s 46ms/step - loss: 0.5200 - categorical_crossentropy: 0.5200 - categorical_accuracy: 0.7892 - val_loss: 0.4648 - val_categorical_crossentropy: 0.4648 - val_categorical_accuracy: 0.8151\n",
      "Epoch 14/100\n",
      "625/625 [==============================] - 30s 47ms/step - loss: 0.5142 - categorical_crossentropy: 0.5142 - categorical_accuracy: 0.7906 - val_loss: 0.4578 - val_categorical_crossentropy: 0.4578 - val_categorical_accuracy: 0.8190\n",
      "Epoch 15/100\n",
      "625/625 [==============================] - 30s 48ms/step - loss: 0.5054 - categorical_crossentropy: 0.5054 - categorical_accuracy: 0.7947 - val_loss: 0.4484 - val_categorical_crossentropy: 0.4484 - val_categorical_accuracy: 0.8265\n",
      "Epoch 16/100\n",
      "625/625 [==============================] - 29s 46ms/step - loss: 0.4993 - categorical_crossentropy: 0.4993 - categorical_accuracy: 0.7967 - val_loss: 0.4406 - val_categorical_crossentropy: 0.4406 - val_categorical_accuracy: 0.8282\n",
      "Epoch 17/100\n",
      "625/625 [==============================] - 29s 46ms/step - loss: 0.4919 - categorical_crossentropy: 0.4919 - categorical_accuracy: 0.8006 - val_loss: 0.4348 - val_categorical_crossentropy: 0.4348 - val_categorical_accuracy: 0.8291\n",
      "Epoch 18/100\n",
      "625/625 [==============================] - 28s 45ms/step - loss: 0.4840 - categorical_crossentropy: 0.4840 - categorical_accuracy: 0.8052 - val_loss: 0.4363 - val_categorical_crossentropy: 0.4363 - val_categorical_accuracy: 0.8294\n",
      "Epoch 19/100\n",
      "625/625 [==============================] - 29s 46ms/step - loss: 0.4808 - categorical_crossentropy: 0.4808 - categorical_accuracy: 0.8065 - val_loss: 0.4260 - val_categorical_crossentropy: 0.4260 - val_categorical_accuracy: 0.8316\n",
      "Epoch 20/100\n",
      "625/625 [==============================] - 29s 47ms/step - loss: 0.4752 - categorical_crossentropy: 0.4752 - categorical_accuracy: 0.8083 - val_loss: 0.4235 - val_categorical_crossentropy: 0.4235 - val_categorical_accuracy: 0.8336\n",
      "Epoch 21/100\n",
      "625/625 [==============================] - 29s 46ms/step - loss: 0.4705 - categorical_crossentropy: 0.4705 - categorical_accuracy: 0.8124 - val_loss: 0.4301 - val_categorical_crossentropy: 0.4301 - val_categorical_accuracy: 0.8335\n",
      "Epoch 22/100\n",
      "625/625 [==============================] - 29s 46ms/step - loss: 0.4641 - categorical_crossentropy: 0.4641 - categorical_accuracy: 0.8140 - val_loss: 0.4114 - val_categorical_crossentropy: 0.4114 - val_categorical_accuracy: 0.8402\n",
      "Epoch 23/100\n",
      "625/625 [==============================] - 29s 46ms/step - loss: 0.4574 - categorical_crossentropy: 0.4574 - categorical_accuracy: 0.8190 - val_loss: 0.4369 - val_categorical_crossentropy: 0.4369 - val_categorical_accuracy: 0.8304\n",
      "Epoch 24/100\n",
      "625/625 [==============================] - 29s 46ms/step - loss: 0.4540 - categorical_crossentropy: 0.4540 - categorical_accuracy: 0.8187 - val_loss: 0.4118 - val_categorical_crossentropy: 0.4118 - val_categorical_accuracy: 0.8436\n",
      "Epoch 25/100\n",
      "625/625 [==============================] - 29s 46ms/step - loss: 0.4472 - categorical_crossentropy: 0.4472 - categorical_accuracy: 0.8240 - val_loss: 0.3944 - val_categorical_crossentropy: 0.3944 - val_categorical_accuracy: 0.8512\n",
      "Epoch 26/100\n",
      "625/625 [==============================] - 29s 47ms/step - loss: 0.4460 - categorical_crossentropy: 0.4460 - categorical_accuracy: 0.8232 - val_loss: 0.3978 - val_categorical_crossentropy: 0.3978 - val_categorical_accuracy: 0.8473\n",
      "Epoch 27/100\n",
      "625/625 [==============================] - 32s 50ms/step - loss: 0.4387 - categorical_crossentropy: 0.4387 - categorical_accuracy: 0.8268 - val_loss: 0.3921 - val_categorical_crossentropy: 0.3921 - val_categorical_accuracy: 0.8521\n",
      "Epoch 28/100\n",
      "625/625 [==============================] - 31s 50ms/step - loss: 0.4334 - categorical_crossentropy: 0.4334 - categorical_accuracy: 0.8294 - val_loss: 0.3896 - val_categorical_crossentropy: 0.3896 - val_categorical_accuracy: 0.8531\n",
      "Epoch 29/100\n",
      "625/625 [==============================] - 32s 51ms/step - loss: 0.4278 - categorical_crossentropy: 0.4278 - categorical_accuracy: 0.8314 - val_loss: 0.3790 - val_categorical_crossentropy: 0.3790 - val_categorical_accuracy: 0.8584\n",
      "Epoch 30/100\n",
      "625/625 [==============================] - 26s 42ms/step - loss: 0.4261 - categorical_crossentropy: 0.4261 - categorical_accuracy: 0.8329 - val_loss: 0.3699 - val_categorical_crossentropy: 0.3699 - val_categorical_accuracy: 0.8597\n",
      "Epoch 31/100\n",
      "625/625 [==============================] - 26s 41ms/step - loss: 0.4217 - categorical_crossentropy: 0.4217 - categorical_accuracy: 0.8347 - val_loss: 0.3761 - val_categorical_crossentropy: 0.3761 - val_categorical_accuracy: 0.8583\n",
      "Epoch 32/100\n",
      "625/625 [==============================] - 26s 41ms/step - loss: 0.4188 - categorical_crossentropy: 0.4188 - categorical_accuracy: 0.8334 - val_loss: 0.3865 - val_categorical_crossentropy: 0.3865 - val_categorical_accuracy: 0.8516\n",
      "Epoch 33/100\n",
      "625/625 [==============================] - 26s 41ms/step - loss: 0.4157 - categorical_crossentropy: 0.4157 - categorical_accuracy: 0.8383 - val_loss: 0.3792 - val_categorical_crossentropy: 0.3792 - val_categorical_accuracy: 0.8594\n",
      "Epoch 34/100\n",
      "625/625 [==============================] - 26s 41ms/step - loss: 0.4110 - categorical_crossentropy: 0.4110 - categorical_accuracy: 0.8399 - val_loss: 0.3671 - val_categorical_crossentropy: 0.3671 - val_categorical_accuracy: 0.8642\n",
      "Epoch 35/100\n",
      "625/625 [==============================] - 26s 41ms/step - loss: 0.4035 - categorical_crossentropy: 0.4035 - categorical_accuracy: 0.8425 - val_loss: 0.3599 - val_categorical_crossentropy: 0.3599 - val_categorical_accuracy: 0.8630\n",
      "Epoch 36/100\n",
      "625/625 [==============================] - 26s 41ms/step - loss: 0.4028 - categorical_crossentropy: 0.4028 - categorical_accuracy: 0.8430 - val_loss: 0.3597 - val_categorical_crossentropy: 0.3597 - val_categorical_accuracy: 0.8664\n",
      "Epoch 37/100\n",
      "625/625 [==============================] - 30s 49ms/step - loss: 0.3963 - categorical_crossentropy: 0.3963 - categorical_accuracy: 0.8467 - val_loss: 0.3548 - val_categorical_crossentropy: 0.3548 - val_categorical_accuracy: 0.8687\n",
      "Epoch 38/100\n",
      "203/625 [========>.....................] - ETA: 26s - loss: 0.3924 - categorical_crossentropy: 0.3924 - categorical_accuracy: 0.8458"
     ]
    }
   ],
   "source": [
    "# Callback to stop training when validation loss stops decreasing\n",
    "early_stopping = ks.callbacks.EarlyStopping(\n",
    "    monitor='val_loss',\n",
    "    patience=5)\n",
    "\n",
    "paper_cnn.compile(\n",
    "    optimizer=ks.optimizers.SGD(learning_rate=config['learning_rate']),\n",
    "    loss=config['loss'],\n",
    "    metrics=[config['loss'], 'categorical_accuracy'])\n",
    "\n",
    "# This will start the training and save each epoch output in the history list\n",
    "paper_cnn_history = paper_cnn.fit(\n",
    "    X_train, y_train,\n",
    "    batch_size=config['batch_size'],\n",
    "    epochs=config['epochs'],\n",
    "    validation_data=(X_val, y_val),\n",
    "    callbacks=[wandb.keras.WandbCallback(), early_stopping])\n",
    "\n",
    "run.finish()"
   ],
   "metadata": {
    "collapsed": false,
    "pycharm": {
     "name": "#%%\n",
     "is_executing": true
    }
   }
  },
  {
   "cell_type": "code",
   "execution_count": null,
   "outputs": [],
   "source": [
    "plt.plot(paper_cnn_history.history['categorical_crossentropy'], label='categorical_crossentropy')\n",
    "plt.plot(paper_cnn_history.history['val_categorical_crossentropy'], label='val_categorical_crossentropy')\n",
    "plt.legend()\n",
    "plt.ylim(0, 1)\n",
    "plt.show()"
   ],
   "metadata": {
    "collapsed": false,
    "pycharm": {
     "name": "#%%\n"
    }
   }
  },
  {
   "cell_type": "code",
   "execution_count": null,
   "outputs": [],
   "source": [
    "plt.plot(paper_cnn_history.history['categorical_accuracy'], label='categorical_accuracy')\n",
    "plt.plot(paper_cnn_history.history['val_categorical_accuracy'], label='val_categorical_accuracy')\n",
    "plt.legend()\n",
    "plt.ylim(0.5, 1)\n",
    "plt.show()"
   ],
   "metadata": {
    "collapsed": false,
    "pycharm": {
     "name": "#%%\n"
    }
   }
  }
 ],
 "metadata": {
  "kernelspec": {
   "name": "python3",
   "language": "python",
   "display_name": "Python 3"
  },
  "language_info": {
   "codemirror_mode": {
    "name": "ipython",
    "version": 3
   },
   "file_extension": ".py",
   "mimetype": "text/x-python",
   "name": "python",
   "nbconvert_exporter": "python",
   "pygments_lexer": "ipython3",
   "version": "3.8.5"
  }
 },
 "nbformat": 4,
 "nbformat_minor": 1
}