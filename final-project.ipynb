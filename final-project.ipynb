{
 "cells": [
  {
   "cell_type": "code",
   "execution_count": 97,
   "metadata": {
    "collapsed": true
   },
   "outputs": [],
   "source": [
    "import chess\n",
    "import chess.pgn\n",
    "import chess.engine\n",
    "import re\n",
    "import os\n",
    "import sys\n",
    "from io import StringIO\n",
    "import subprocess\n",
    "import numpy as np\n",
    "from contextlib import contextmanager"
   ]
  },
  {
   "cell_type": "code",
   "execution_count": null,
   "outputs": [],
   "source": [
    "from typing import List, Dict, Tuple, Generator"
   ],
   "metadata": {
    "collapsed": false,
    "pycharm": {
     "name": "#%%\n"
    }
   }
  },
  {
   "cell_type": "code",
   "execution_count": 4,
   "outputs": [],
   "source": [
    "import pyperclip as pc"
   ],
   "metadata": {
    "collapsed": false,
    "pycharm": {
     "name": "#%%\n"
    }
   }
  },
  {
   "cell_type": "markdown",
   "source": [
    "## Sample PGN Data"
   ],
   "metadata": {
    "collapsed": false,
    "pycharm": {
     "name": "#%% md\n"
    }
   }
  },
  {
   "cell_type": "code",
   "execution_count": 5,
   "outputs": [],
   "source": [
    "test_pgn = '''\n",
    "[Event \"Rated Bullet game\"]\n",
    "[Site \"https://lichess.org/69CbaD8f\"]\n",
    "[Date \"2021.10.07\"]\n",
    "[White \"Cubigami\"]\n",
    "[Black \"JoinedToday\"]\n",
    "[Result \"1-0\"]\n",
    "[UTCDate \"2021.10.07\"]\n",
    "[UTCTime \"05:16:00\"]\n",
    "[WhiteElo \"1930\"]\n",
    "[BlackElo \"1912\"]\n",
    "[WhiteRatingDiff \"+5\"]\n",
    "[BlackRatingDiff \"-6\"]\n",
    "[Variant \"Standard\"]\n",
    "[TimeControl \"60+0\"]\n",
    "[ECO \"B01\"]\n",
    "[Opening \"Scandinavian Defense: Mieses-Kotroc Variation\"]\n",
    "[Termination \"Normal\"]\n",
    "[Annotator \"lichess.org\"]\n",
    "\n",
    "1. e4 { [%eval 0.24] [%clk 0:01:00] } 1... d5?! { (0.24 → 0.82) Inaccuracy. e5 was best. } { [%eval 0.82] [%clk 0:01:00] } (1... e5 2. Nf3 Nc6 3. Bb5 Nf6 4. O-O Nxe4 5. Re1 Nd6 6. Nxe5) 2. exd5 { [%eval 0.36] [%clk 0:01:00] } 2... Qxd5 { [%eval 0.66] [%clk 0:01:00] } { B01 Scandinavian Defense: Mieses-Kotroc Variation } 3. Nc3 { [%eval 0.46] [%clk 0:01:00] } 3... Qe6+?! { (0.46 → 1.12) Inaccuracy. Qa5 was best. } { [%eval 1.12] [%clk 0:01:00] } (3... Qa5 4. Nf3 Nf6 5. d4 Bf5 6. Ne5 c6 7. Bf4 Nbd7 8. Nc4) 4. Be2 { [%eval 0.94] [%clk 0:00:59] } 4... Qg6? { (0.94 → 2.18) Mistake. Nf6 was best. } { [%eval 2.18] [%clk 0:01:00] } (4... Nf6 5. d4 Qd6 6. Nf3 e6 7. O-O Be7 8. Nb5 Qd8 9. c4) 5. Nf3 { [%eval 1.51] [%clk 0:00:58] } 5... Nc6?? { (1.51 → 4.52) Blunder. Qxg2 was best. } { [%eval 4.52] [%clk 0:00:59] } (5... Qxg2 6. Rg1 Qh3 7. d4 Nf6 8. Rg3 Qf5 9. Ne5 c6 10. Rf3) 6. O-O?? { (4.52 → 0.37) Blunder. Nb5 was best. } { [%eval 0.37] [%clk 0:00:57] } (6. Nb5 Kd8 7. d4 a6 8. d5 axb5 9. dxc6+ Ke8 10. Ne5 Qe6) 6... h5?? { (0.37 → 5.60) Blunder. Bh3 was best. } { [%eval 5.6] [%clk 0:00:59] } (6... Bh3 7. Ne1 Bf5 8. Nd5 O-O-O 9. Ne3 Nf6 10. Nf3 Be4 11. d3) 7. h4?? { (5.60 → 0.08) Blunder. Nb5 was best. } { [%eval 0.08] [%clk 0:00:56] } (7. Nb5 Bh3) 7... a6?? { (0.08 → 2.63) Blunder. Bh3 was best. } { [%eval 2.63] [%clk 0:00:58] } (7... Bh3 8. Ng5 Bf5 9. Bb5 f6 10. Nf3 e6 11. Nd4 Ne7 12. Qf3 Kd7 13. Re1 a6 14. Ba4) 8. Bd3?? { (2.63 → -0.22) Blunder. d4 was best. } { [%eval -0.22] [%clk 0:00:53] } (8. d4) 8... Qf6?? { (-0.22 → 1.46) Blunder. Bf5 was best. } { [%eval 1.46] [%clk 0:00:56] } (8... Bf5) 9. Ne4 { [%eval 1.24] [%clk 0:00:51] } 9... Qe6?! { (1.24 → 2.16) Inaccuracy. Qg6 was best. } { [%eval 2.16] [%clk 0:00:54] } (9... Qg6 10. Ng3) 10. Nfg5? { (2.16 → 0.77) Mistake. Neg5 was best. } { [%eval 0.77] [%clk 0:00:51] } (10. Neg5 Qd6 11. Bc4 Nh6 12. c3 Bf5 13. Qb3 O-O-O 14. Bxf7 e5 15. Be6+ Bxe6 16. Qxe6+ Qxe6) 10... Qd7?? { (0.77 → 8.62) Blunder. Qd5 was best. } { [%eval 8.62] [%clk 0:00:52] } (10... Qd5 11. Nc3 Qd8 12. Bc4 e6 13. Re1 Be7 14. d3 Nh6 15. Qxh5 g6 16. Qd1 Nf5 17. g3) 11. Qf3?? { (8.62 → -0.59) Blunder. Nxf7 was best. } { [%eval -0.59] [%clk 0:00:50] } (11. Nxf7) 11... f6?? { (-0.59 → 8.00) Blunder. Ne5 was best. } { [%eval 8.0] [%clk 0:00:50] } (11... Ne5 12. Qf4 f6 13. Be2 Nc6 14. Nf3 e5 15. Qe3 Nge7 16. Qb3 Qd5 17. d3 Qxb3 18. axb3) 12. Nc5 { [%eval 7.68] [%clk 0:00:47] } 12... Qd8? { (7.68 → Mate in 1) Checkmate is now unavoidable. Ne5 was best. } { [%eval #1] [%clk 0:00:49] } (12... Ne5 13. Bg6+ Nxg6 14. Nxd7 Bxd7 15. Qxb7 Rd8 16. Qe4 Nxh4 17. Ne6 Bxe6 18. Qxe6 Rd6 19. Qc4) 13. Nge6? { (Mate in 1 → 8.51) Lost forced checkmate sequence. Bg6# was best. } { [%eval 8.51] [%clk 0:00:45] } (13. Bg6#) 13... Bxe6 { [%eval 8.53] [%clk 0:00:43] } 14. Nxe6 { [%eval 8.78] [%clk 0:00:45] } 14... Qd7? { (8.78 → Mate in 1) Checkmate is now unavoidable. Ne5 was best. } { [%eval #1] [%clk 0:00:43] } (14... Ne5 15. Qxb7) 15. Bg6# { [%clk 0:00:45] } { White wins by checkmate. } 1-0'''"
   ],
   "metadata": {
    "collapsed": false,
    "pycharm": {
     "name": "#%%\n"
    }
   }
  },
  {
   "cell_type": "markdown",
   "source": [
    "## Python chess basics\n",
    "https://python-chess.readthedocs.io/en/latest/"
   ],
   "metadata": {
    "collapsed": false,
    "pycharm": {
     "name": "#%% md\n"
    }
   }
  },
  {
   "cell_type": "code",
   "execution_count": 6,
   "outputs": [],
   "source": [
    "def is_analyzed_by_lichess(game: chess.pgn.Game) -> bool:\n",
    "    return 'Annotator' in game.headers and game.headers['Annotator'] == 'lichess.org'\n",
    "\n",
    "\n",
    "def generate_games(pgn_filename: str) -> Generator[str, None, None]:\n",
    "    with open(pgn_filename) as file:\n",
    "        while True:\n",
    "            game = chess.pgn.read_game(file)\n",
    "            if game is not None:\n",
    "                yield game\n",
    "            else:\n",
    "                return\n",
    "\n",
    "\n",
    "EVAL_REGEX_PAT = '\\[%eval ([+-]?(?:[0-9]*[.])?[0-9]+|#[0-9])]'\n",
    "def generate_fens_with_cpl(single_game_pgn: str) \\\n",
    "        -> Generator[Tuple[str, float], None, None]:\n",
    "    \"\"\"\n",
    "    For each ply in the PGN, return its FEN and the CP score of the position. The PGN\n",
    "    must be annotated using Lichess's %eval comment format.\n",
    "    :param single_game_pgn: A PGN string containing only one game\n",
    "    \"\"\"\n",
    "    def get_score_from_comment(comment: str) -> float:\n",
    "        \"\"\" Return the pawn-score in the comment if it contains \"%eval\". If \"%eval\" not in comment, raises ValueError. \"\"\"\n",
    "        if '%eval' not in comment:\n",
    "            raise ValueError\n",
    "\n",
    "        # Get score part using regex\n",
    "        evals = re.findall(EVAL_REGEX_PAT, comment)\n",
    "        assert len(evals) == 1, f'error: \"%eval\" tag appears more than once in move.comment = {comment}'\n",
    "        score = evals[0]\n",
    "\n",
    "        # Convert to float\n",
    "        try:\n",
    "            score = float(score)\n",
    "        except ValueError:\n",
    "            # Only explanation for ValueError should be that %eval's score is a checkmate, ex. '#-5' or '#9'\n",
    "            # Convert to centipawn-score with mate_score, then /100 to get pawn-score\n",
    "            # https://python-chess.readthedocs.io/en/latest/engine.html?highlight=mate_score#chess.engine.Score.score\n",
    "            assert '#' in score\n",
    "            score = chess.engine.Mate(int(score.lstrip('#'))).score(mate_score=10_000) / 100.0\n",
    "        return score\n",
    "\n",
    "\n",
    "    def get_cpl(from_score: float, to_score: float, after_move_by: chess.Color) -> int:\n",
    "        \"\"\" Get centipawn loss (CPL) based on scores of consecutive moves and side to move. \"\"\"\n",
    "        return int((to_score - from_score) * 100) * ((-1) ** (not after_move_by))\n",
    "\n",
    "\n",
    "    game: chess.pgn.Game = chess.pgn.read_game(StringIO(single_game_pgn))\n",
    "    assert is_analyzed_by_lichess(game), f'error: PGN not analyzed by lichess. PGN: {game}'\n",
    "\n",
    "    board = game.board()\n",
    "    mainline_nodes: List[chess.pgn.ChildNode] = list(game.mainline())\n",
    "    for i, node in enumerate(mainline_nodes):\n",
    "        move: chess.Move = node.move\n",
    "        comment: str = node.comment\n",
    "        try:\n",
    "            next_comment = mainline_nodes[i+1].comment\n",
    "        except IndexError:\n",
    "            # Mainline over -> can't get centipawn loss on this move\n",
    "            return\n",
    "\n",
    "        # Get centipawn loss (CPL)\n",
    "        try:\n",
    "            score = get_score_from_comment(comment)\n",
    "            next_score = get_score_from_comment(next_comment)\n",
    "        except ValueError:\n",
    "            # If for some reason there is no \"%eval\" in either comment,\n",
    "            # continue because CPL can't be calculated\n",
    "            continue\n",
    "        cpl = get_cpl(score, next_score, board.turn)\n",
    "\n",
    "        board.push(move)\n",
    "        yield board.fen(), cpl"
   ],
   "metadata": {
    "collapsed": false,
    "pycharm": {
     "name": "#%%\n"
    }
   }
  },
  {
   "cell_type": "code",
   "execution_count": 7,
   "outputs": [
    {
     "data": {
      "text/plain": "[('rnbqkbnr/pppppppp/8/8/4P3/8/PPPP1PPP/RNBQKBNR b KQkq - 0 1', 57),\n ('rnbqkbnr/ppp1pppp/8/3p4/4P3/8/PPPP1PPP/RNBQKBNR w KQkq - 0 2', 46),\n ('rnbqkbnr/ppp1pppp/8/3P4/8/8/PPPP1PPP/RNBQKBNR b KQkq - 0 2', 30),\n ('rnb1kbnr/ppp1pppp/8/3q4/8/8/PPPP1PPP/RNBQKBNR w KQkq - 0 3', 20),\n ('rnb1kbnr/ppp1pppp/8/3q4/8/2N5/PPPP1PPP/R1BQKBNR b KQkq - 1 3', 66),\n ('rnb1kbnr/ppp1pppp/4q3/8/8/2N5/PPPP1PPP/R1BQKBNR w KQkq - 2 4', 18),\n ('rnb1kbnr/ppp1pppp/4q3/8/8/2N5/PPPPBPPP/R1BQK1NR b KQkq - 3 4', 124),\n ('rnb1kbnr/ppp1pppp/6q1/8/8/2N5/PPPPBPPP/R1BQK1NR w KQkq - 4 5', 67),\n ('rnb1kbnr/ppp1pppp/6q1/8/8/2N2N2/PPPPBPPP/R1BQK2R b KQkq - 5 5', 301),\n ('r1b1kbnr/ppp1pppp/2n3q1/8/8/2N2N2/PPPPBPPP/R1BQK2R w KQkq - 6 6', 414),\n ('r1b1kbnr/ppp1pppp/2n3q1/8/8/2N2N2/PPPPBPPP/R1BQ1RK1 b kq - 7 6', 523),\n ('r1b1kbnr/ppp1ppp1/2n3q1/7p/8/2N2N2/PPPPBPPP/R1BQ1RK1 w kq - 0 7', 552),\n ('r1b1kbnr/ppp1ppp1/2n3q1/7p/7P/2N2N2/PPPPBPP1/R1BQ1RK1 b kq - 0 7', 254),\n ('r1b1kbnr/1pp1ppp1/p1n3q1/7p/7P/2N2N2/PPPPBPP1/R1BQ1RK1 w kq - 0 8', 285),\n ('r1b1kbnr/1pp1ppp1/p1n3q1/7p/7P/2NB1N2/PPPP1PP1/R1BQ1RK1 b kq - 1 8', 168),\n ('r1b1kbnr/1pp1ppp1/p1n2q2/7p/7P/2NB1N2/PPPP1PP1/R1BQ1RK1 w kq - 2 9', 21),\n ('r1b1kbnr/1pp1ppp1/p1n2q2/7p/4N2P/3B1N2/PPPP1PP1/R1BQ1RK1 b kq - 3 9', 92),\n ('r1b1kbnr/1pp1ppp1/p1n1q3/7p/4N2P/3B1N2/PPPP1PP1/R1BQ1RK1 w kq - 4 10', 139),\n ('r1b1kbnr/1pp1ppp1/p1n1q3/6Np/4N2P/3B4/PPPP1PP1/R1BQ1RK1 b kq - 5 10', 785),\n ('r1b1kbnr/1ppqppp1/p1n5/6Np/4N2P/3B4/PPPP1PP1/R1BQ1RK1 w kq - 6 11', 920),\n ('r1b1kbnr/1ppqppp1/p1n5/6Np/4N2P/3B1Q2/PPPP1PP1/R1B2RK1 b kq - 7 11', 859),\n ('r1b1kbnr/1ppqp1p1/p1n2p2/6Np/4N2P/3B1Q2/PPPP1PP1/R1B2RK1 w kq - 0 12', 32),\n ('r1b1kbnr/1ppqp1p1/p1n2p2/2N3Np/7P/3B1Q2/PPPP1PP1/R1B2RK1 b kq - 1 12',\n  9231),\n ('r1bqkbnr/1pp1p1p1/p1n2p2/2N3Np/7P/3B1Q2/PPPP1PP1/R1B2RK1 w kq - 2 13',\n  9147),\n ('r1bqkbnr/1pp1p1p1/p1n1Np2/2N4p/7P/3B1Q2/PPPP1PP1/R1B2RK1 b kq - 3 13', 1),\n ('r2qkbnr/1pp1p1p1/p1n1bp2/2N4p/7P/3B1Q2/PPPP1PP1/R1B2RK1 w kq - 0 14', -25),\n ('r2qkbnr/1pp1p1p1/p1n1Np2/7p/7P/3B1Q2/PPPP1PP1/R1B2RK1 b kq - 0 14', 9121)]"
     },
     "execution_count": 7,
     "metadata": {},
     "output_type": "execute_result"
    }
   ],
   "source": [
    "list(generate_fens_with_cpl(test_pgn))"
   ],
   "metadata": {
    "collapsed": false,
    "pycharm": {
     "name": "#%%\n"
    }
   }
  },
  {
   "cell_type": "code",
   "execution_count": 170,
   "outputs": [],
   "source": [
    "@contextmanager\n",
    "def start_engine_process() -> Generator[subprocess.Popen, None, None]:\n",
    "    # Open the exe using Popen\n",
    "    p = subprocess.Popen(\"./stockfish_14_win_x64_avx2/stockfish_14_x64_avx2.exe\",\n",
    "                         stdin=subprocess.PIPE,\n",
    "                         stdout=subprocess.PIPE,\n",
    "                         stderr=subprocess.PIPE)\n",
    "\n",
    "    # Send commands to this open process by using stdin.write(*command*)\n",
    "    send_commands(p, 'isready\\n')\n",
    "    # p.stdout.readline()\n",
    "\n",
    "    try:\n",
    "        yield p\n",
    "    finally:\n",
    "        p.terminate()\n",
    "\n",
    "\n",
    "def send_commands(proc: subprocess.Popen, *commands: str) -> None:\n",
    "    if not commands:\n",
    "        return\n",
    "\n",
    "    for cmd in commands:\n",
    "        proc.stdin.write(cmd.encode())\n",
    "\n",
    "    proc.stdin.flush()\n",
    "\n",
    "\n",
    "def analyze_static(p: subprocess.Popen, fen: str) -> str:\n",
    "    # Send commands to this open process by using stdin.write(*command*)\n",
    "    send_commands(p, f'position fen {fen}\\n', 'eval\\n')\n",
    "\n",
    "    # Communicate and get the output from the executable\n",
    "    lines = []\n",
    "    for _ in range(73):\n",
    "        line = p.stdout.readline().decode().strip()\n",
    "        lines.append(line.strip('\\n\\r'))\n",
    "\n",
    "        # Static eval doesn't run on positions where either king is in check\n",
    "        if 'none (in check)' in line:\n",
    "            break\n",
    "\n",
    "    # Output\n",
    "    return '\\n'.join(lines)"
   ],
   "metadata": {
    "collapsed": false,
    "pycharm": {
     "name": "#%%\n"
    }
   }
  },
  {
   "cell_type": "code",
   "execution_count": 171,
   "outputs": [
    {
     "name": "stdout",
     "output_type": "stream",
     "text": [
      "Stockfish 14 by the Stockfish developers (see AUTHORS file)\n",
      "readyok\n",
      "info string NNUE evaluation using nn-3475407dc199.nnue enabled\n",
      "\n",
      "Final evaluation: none (in check)\n"
     ]
    }
   ],
   "source": [
    "with start_engine_process() as p:\n",
    "    output = analyze_static(p, 'r3r3/pppkb1pp/8/n2nN3/8/8/PPPP1PPP/RNB1K2R b KQ - 2 12')\n",
    "    print(output)\n",
    "    pc.copy(output)"
   ],
   "metadata": {
    "collapsed": false,
    "pycharm": {
     "name": "#%%\n"
    }
   }
  },
  {
   "cell_type": "code",
   "execution_count": 12,
   "outputs": [
    {
     "ename": "KeyboardInterrupt",
     "evalue": "",
     "output_type": "error",
     "traceback": [
      "\u001B[1;31m---------------------------------------------------------------------------\u001B[0m",
      "\u001B[1;31mKeyboardInterrupt\u001B[0m                         Traceback (most recent call last)",
      "\u001B[1;32m<ipython-input-12-4e9daee2ea4a>\u001B[0m in \u001B[0;36m<module>\u001B[1;34m\u001B[0m\n\u001B[0;32m      3\u001B[0m     \u001B[0mpgn\u001B[0m \u001B[1;33m=\u001B[0m \u001B[1;34m''\u001B[0m\u001B[1;33m\u001B[0m\u001B[1;33m\u001B[0m\u001B[0m\n\u001B[0;32m      4\u001B[0m     \u001B[1;32mwhile\u001B[0m \u001B[0mpgn\u001B[0m \u001B[1;32mis\u001B[0m \u001B[1;32mnot\u001B[0m \u001B[1;32mNone\u001B[0m\u001B[1;33m:\u001B[0m\u001B[1;33m\u001B[0m\u001B[1;33m\u001B[0m\u001B[0m\n\u001B[1;32m----> 5\u001B[1;33m         \u001B[0mpgn\u001B[0m \u001B[1;33m=\u001B[0m \u001B[0mchess\u001B[0m\u001B[1;33m.\u001B[0m\u001B[0mpgn\u001B[0m\u001B[1;33m.\u001B[0m\u001B[0mread_game\u001B[0m\u001B[1;33m(\u001B[0m\u001B[0mfile\u001B[0m\u001B[1;33m)\u001B[0m\u001B[1;33m\u001B[0m\u001B[1;33m\u001B[0m\u001B[0m\n\u001B[0m\u001B[0;32m      6\u001B[0m \u001B[1;33m\u001B[0m\u001B[0m\n\u001B[0;32m      7\u001B[0m         \u001B[0mi\u001B[0m \u001B[1;33m+=\u001B[0m \u001B[1;36m1\u001B[0m\u001B[1;33m\u001B[0m\u001B[1;33m\u001B[0m\u001B[0m\n",
      "\u001B[1;32m~\\anaconda3\\lib\\site-packages\\chess\\pgn.py\u001B[0m in \u001B[0;36mread_game\u001B[1;34m(handle, Visitor)\u001B[0m\n\u001B[0;32m   1466\u001B[0m         \u001B[1;32mif\u001B[0m \u001B[0mconsecutive_empty_lines\u001B[0m \u001B[1;33m<\u001B[0m \u001B[1;36m1\u001B[0m \u001B[1;32mand\u001B[0m \u001B[0mline\u001B[0m\u001B[1;33m.\u001B[0m\u001B[0misspace\u001B[0m\u001B[1;33m(\u001B[0m\u001B[1;33m)\u001B[0m\u001B[1;33m:\u001B[0m\u001B[1;33m\u001B[0m\u001B[1;33m\u001B[0m\u001B[0m\n\u001B[0;32m   1467\u001B[0m             \u001B[0mconsecutive_empty_lines\u001B[0m \u001B[1;33m+=\u001B[0m \u001B[1;36m1\u001B[0m\u001B[1;33m\u001B[0m\u001B[1;33m\u001B[0m\u001B[0m\n\u001B[1;32m-> 1468\u001B[1;33m             \u001B[0mline\u001B[0m \u001B[1;33m=\u001B[0m \u001B[0mhandle\u001B[0m\u001B[1;33m.\u001B[0m\u001B[0mreadline\u001B[0m\u001B[1;33m(\u001B[0m\u001B[1;33m)\u001B[0m\u001B[1;33m\u001B[0m\u001B[1;33m\u001B[0m\u001B[0m\n\u001B[0m\u001B[0;32m   1469\u001B[0m             \u001B[1;32mcontinue\u001B[0m\u001B[1;33m\u001B[0m\u001B[1;33m\u001B[0m\u001B[0m\n\u001B[0;32m   1470\u001B[0m \u001B[1;33m\u001B[0m\u001B[0m\n",
      "\u001B[1;32m~\\anaconda3\\lib\\encodings\\cp1252.py\u001B[0m in \u001B[0;36mdecode\u001B[1;34m(self, input, final)\u001B[0m\n\u001B[0;32m     20\u001B[0m \u001B[1;33m\u001B[0m\u001B[0m\n\u001B[0;32m     21\u001B[0m \u001B[1;32mclass\u001B[0m \u001B[0mIncrementalDecoder\u001B[0m\u001B[1;33m(\u001B[0m\u001B[0mcodecs\u001B[0m\u001B[1;33m.\u001B[0m\u001B[0mIncrementalDecoder\u001B[0m\u001B[1;33m)\u001B[0m\u001B[1;33m:\u001B[0m\u001B[1;33m\u001B[0m\u001B[1;33m\u001B[0m\u001B[0m\n\u001B[1;32m---> 22\u001B[1;33m     \u001B[1;32mdef\u001B[0m \u001B[0mdecode\u001B[0m\u001B[1;33m(\u001B[0m\u001B[0mself\u001B[0m\u001B[1;33m,\u001B[0m \u001B[0minput\u001B[0m\u001B[1;33m,\u001B[0m \u001B[0mfinal\u001B[0m\u001B[1;33m=\u001B[0m\u001B[1;32mFalse\u001B[0m\u001B[1;33m)\u001B[0m\u001B[1;33m:\u001B[0m\u001B[1;33m\u001B[0m\u001B[1;33m\u001B[0m\u001B[0m\n\u001B[0m\u001B[0;32m     23\u001B[0m         \u001B[1;32mreturn\u001B[0m \u001B[0mcodecs\u001B[0m\u001B[1;33m.\u001B[0m\u001B[0mcharmap_decode\u001B[0m\u001B[1;33m(\u001B[0m\u001B[0minput\u001B[0m\u001B[1;33m,\u001B[0m\u001B[0mself\u001B[0m\u001B[1;33m.\u001B[0m\u001B[0merrors\u001B[0m\u001B[1;33m,\u001B[0m\u001B[0mdecoding_table\u001B[0m\u001B[1;33m)\u001B[0m\u001B[1;33m[\u001B[0m\u001B[1;36m0\u001B[0m\u001B[1;33m]\u001B[0m\u001B[1;33m\u001B[0m\u001B[1;33m\u001B[0m\u001B[0m\n\u001B[0;32m     24\u001B[0m \u001B[1;33m\u001B[0m\u001B[0m\n",
      "\u001B[1;31mKeyboardInterrupt\u001B[0m: "
     ]
    }
   ],
   "source": [
    "def export_csv(output_filename: str, data: np.array) -> None:\n",
    "    ...\n",
    "\n",
    "\n",
    "def prepare_data(pgn_filename: str) -> np.array:\n",
    "\n",
    "\n",
    "with open('data/lichess_db_standard_rated_2015-09.pgn/lichess_db_standard_rated_2015-09.pgn') as file:\n",
    "    i = 0\n",
    "    pgn = ''\n",
    "    while pgn is not None:\n",
    "        pgn = chess.pgn.read_game(file)\n",
    "\n",
    "    print(i, 'games found')"
   ],
   "metadata": {
    "collapsed": false,
    "pycharm": {
     "name": "#%%\n"
    }
   }
  },
  {
   "cell_type": "code",
   "execution_count": null,
   "outputs": [],
   "source": [],
   "metadata": {
    "collapsed": false,
    "pycharm": {
     "name": "#%%\n"
    }
   }
  }
 ],
 "metadata": {
  "kernelspec": {
   "display_name": "Python 3",
   "language": "python",
   "name": "python3"
  },
  "language_info": {
   "codemirror_mode": {
    "name": "ipython",
    "version": 2
   },
   "file_extension": ".py",
   "mimetype": "text/x-python",
   "name": "python",
   "nbconvert_exporter": "python",
   "pygments_lexer": "ipython2",
   "version": "2.7.6"
  }
 },
 "nbformat": 4,
 "nbformat_minor": 0
}